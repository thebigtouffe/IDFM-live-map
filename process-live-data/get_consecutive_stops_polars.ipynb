{
 "cells": [
  {
   "cell_type": "code",
   "execution_count": 11,
   "metadata": {},
   "outputs": [
    {
     "name": "stdout",
     "output_type": "stream",
     "text": [
      "Requirement already satisfied: polars in /Users/bubu/Dev/IDFM-live-map/.venv/lib/python3.12/site-packages (1.2.1)\n"
     ]
    }
   ],
   "source": [
    "!pip3 install polars pandana pandas pyrosm matplotlib numpy"
   ]
  },
  {
   "cell_type": "code",
   "execution_count": 1,
   "metadata": {},
   "outputs": [],
   "source": [
    "import polars as pl\n",
    "import os\n",
    "import pandas as pd\n",
    "import geopandas as gpd\n",
    "from pyrosm import OSM, get_data\n",
    "import numpy as np\n",
    "import matplotlib.pyplot as plt\n",
    "import pandana\n",
    "from shapely.geometry import LineString"
   ]
  },
  {
   "cell_type": "markdown",
   "metadata": {},
   "source": [
    "# Compute pairs of consecutive stops in the time table"
   ]
  },
  {
   "cell_type": "markdown",
   "metadata": {},
   "source": [
    "## Load data"
   ]
  },
  {
   "cell_type": "code",
   "execution_count": 2,
   "metadata": {},
   "outputs": [],
   "source": [
    "# GTFS data (used for timetable)\n",
    "STATIC_GTFS_URL=\"https://eu.ftp.opendatasoft.com/stif/GTFS/IDFM-gtfs.zip\"\n",
    "STATIC_GTFS_FILE_PATH=\"raw_data/gtfs.zip\"\n",
    "STATIC_GTFS_PATH=\"raw_data/gtfs\""
   ]
  },
  {
   "cell_type": "code",
   "execution_count": 33,
   "metadata": {},
   "outputs": [],
   "source": [
    "stop_times_path = os.path.join(STATIC_GTFS_PATH, 'stop_times.txt')\n",
    "stop_times_cols = ['trip_id','stop_id','stop_sequence']\n",
    "stop_times_dtype = {'trip_id': pl.String,\n",
    "                    'stop_id': pl.String,\n",
    "                    'stop_sequence': pl.Int16}\n",
    "stop_times = pl.scan_csv(stop_times_path, schema_overrides=stop_times_dtype).select(stop_times_cols)"
   ]
  },
  {
   "cell_type": "code",
   "execution_count": 35,
   "metadata": {},
   "outputs": [],
   "source": [
    "stops_path = os.path.join(STATIC_GTFS_PATH, 'stops.txt')\n",
    "stops_dtype = {'stop_id': pl.String,\n",
    "               'stop_name': pl.String,\n",
    "               'stop_lat': pl.Float64,\n",
    "               'stop_lon': pl.Float64,\n",
    "               }\n",
    "stops = pl.scan_csv(stops_path, schema_overrides=stops_dtype).select(list(stops_dtype.keys()))"
   ]
  },
  {
   "cell_type": "markdown",
   "metadata": {},
   "source": [
    "# Compute graph of Ile-de-France driving network from OSM data"
   ]
  },
  {
   "cell_type": "code",
   "execution_count": 42,
   "metadata": {},
   "outputs": [],
   "source": [
    "# Download data for Ile de France region from OpenStreetMap\n",
    "idf_osm = OSM(get_data(\"Ile de France\"))"
   ]
  },
  {
   "cell_type": "code",
   "execution_count": 43,
   "metadata": {},
   "outputs": [],
   "source": [
    "# Parse street networks from OSM data\n",
    "nodes, edges = idf_osm.get_network(nodes=True, network_type=\"driving\")"
   ]
  },
  {
   "cell_type": "code",
   "execution_count": 24,
   "metadata": {},
   "outputs": [
    {
     "name": "stdout",
     "output_type": "stream",
     "text": [
      "Generating contraction hierarchies with 1 threads.\n",
      "Setting CH node vector of size 2172010\n",
      "Setting CH edge vector of size 3874586\n",
      "Range graph removed 3100764 edges of 7749172\n",
      ". 10% . 20% . 30% . 40% . 50% . 60% . 70% . 80% . 90% . 100%\n"
     ]
    }
   ],
   "source": [
    "# Export OSM network to routable graph\n",
    "G = idf_osm.to_graph(nodes, edges, graph_type=\"pandana\")"
   ]
  },
  {
   "cell_type": "code",
   "execution_count": 25,
   "metadata": {},
   "outputs": [],
   "source": [
    "# Save graph data\n",
    "G.save_hdf5('data/osm_driving_network.h5')"
   ]
  },
  {
   "cell_type": "markdown",
   "metadata": {},
   "source": [
    "## Load computed graph"
   ]
  },
  {
   "cell_type": "code",
   "execution_count": 5,
   "metadata": {},
   "outputs": [
    {
     "name": "stdout",
     "output_type": "stream",
     "text": [
      "Generating contraction hierarchies with 1 threads.\n",
      "Setting CH node vector of size 2172010\n",
      "Setting CH edge vector of size 3874586\n",
      "Range graph removed 3100764 edges of 7749172\n",
      ". 10% . 20% . 30% . 40% . 50% . 60% . 70% . 80% . 90% . 100%\n"
     ]
    }
   ],
   "source": [
    "G = pandana.Network.from_hdf5('data/osm_driving_network.h5')"
   ]
  },
  {
   "cell_type": "markdown",
   "metadata": {},
   "source": [
    "# Compute path between consecutive stops"
   ]
  },
  {
   "cell_type": "markdown",
   "metadata": {},
   "source": [
    "## Get node in graph of each stop"
   ]
  },
  {
   "cell_type": "code",
   "execution_count": 36,
   "metadata": {},
   "outputs": [],
   "source": [
    "stops_x_y = stops.select(['stop_lon', 'stop_lat']).collect().to_pandas()"
   ]
  },
  {
   "cell_type": "code",
   "execution_count": 37,
   "metadata": {},
   "outputs": [],
   "source": [
    "# Get nearest graph node of all stops for selected bus line\n",
    "node_ids = G.get_node_ids(stops_x_y.stop_lon.values, stops_x_y.stop_lat.values)"
   ]
  },
  {
   "cell_type": "code",
   "execution_count": 38,
   "metadata": {},
   "outputs": [],
   "source": [
    "# Enrich stops dataframe\n",
    "stops = stops.with_columns(pl.Series(name=\"node_id\", values=node_ids))"
   ]
  },
  {
   "cell_type": "markdown",
   "metadata": {},
   "source": [
    "## Enrich time table with stop data"
   ]
  },
  {
   "cell_type": "code",
   "execution_count": 39,
   "metadata": {},
   "outputs": [],
   "source": [
    "stop_times = stop_times.join(stops, on='stop_id')"
   ]
  },
  {
   "cell_type": "code",
   "execution_count": 40,
   "metadata": {},
   "outputs": [],
   "source": [
    "stop_times = stop_times.sort(['trip_id', 'stop_sequence'])"
   ]
  },
  {
   "cell_type": "markdown",
   "metadata": {},
   "source": [
    "## Get consecutive stops pairs"
   ]
  },
  {
   "cell_type": "code",
   "execution_count": 41,
   "metadata": {},
   "outputs": [
    {
     "data": {
      "text/html": [
       "<div><style>\n",
       ".dataframe > thead > tr,\n",
       ".dataframe > tbody > tr {\n",
       "  text-align: right;\n",
       "  white-space: pre-wrap;\n",
       "}\n",
       "</style>\n",
       "<small>shape: (42_134, 10)</small><table border=\"1\" class=\"dataframe\"><thead><tr><th>orig_stop_id</th><th>orig_stop_name</th><th>orig_stop_lat</th><th>orig_stop_lon</th><th>orig_node_id</th><th>dest_stop_id</th><th>dest_stop_name</th><th>dest_stop_lat</th><th>dest_stop_lon</th><th>dest_node_id</th></tr><tr><td>str</td><td>str</td><td>f64</td><td>f64</td><td>i64</td><td>str</td><td>str</td><td>f64</td><td>f64</td><td>i64</td></tr></thead><tbody><tr><td>&quot;IDFM:4865&quot;</td><td>&quot;Le Gradient&quot;</td><td>48.764005</td><td>2.086507</td><td>7838417158</td><td>&quot;IDFM:4566&quot;</td><td>&quot;Technocentre - L&#x27;Étang&quot;</td><td>48.757899</td><td>2.087825</td><td>10139511196</td></tr><tr><td>&quot;IDFM:27451&quot;</td><td>&quot;Chastenet de Géry&quot;</td><td>48.805797</td><td>2.358141</td><td>9655030692</td><td>&quot;IDFM:464058&quot;</td><td>&quot;Les Coquettes&quot;</td><td>48.804297</td><td>2.358554</td><td>9655030693</td></tr><tr><td>&quot;IDFM:463591&quot;</td><td>&quot;Ramponeau&quot;</td><td>48.870514</td><td>2.378229</td><td>1789061726</td><td>&quot;IDFM:463626&quot;</td><td>&quot;Couronnes&quot;</td><td>48.868593</td><td>2.380692</td><td>1789061771</td></tr><tr><td>&quot;IDFM:39814&quot;</td><td>&quot;Pont Neuf - Quai du Louvre&quot;</td><td>48.858212</td><td>2.34313</td><td>2880573972</td><td>&quot;IDFM:39780&quot;</td><td>&quot;Châtelet - Quai de Gesvres&quot;</td><td>48.856934</td><td>2.347848</td><td>12031269002</td></tr><tr><td>&quot;IDFM:13962&quot;</td><td>&quot;Péguy&quot;</td><td>48.926359</td><td>2.050164</td><td>10827452734</td><td>&quot;IDFM:34883&quot;</td><td>&quot;Commissariat&quot;</td><td>48.927207</td><td>2.043685</td><td>473690881</td></tr><tr><td>&hellip;</td><td>&hellip;</td><td>&hellip;</td><td>&hellip;</td><td>&hellip;</td><td>&hellip;</td><td>&hellip;</td><td>&hellip;</td><td>&hellip;</td><td>&hellip;</td></tr><tr><td>&quot;IDFM:20796&quot;</td><td>&quot;Circuit Automobile&quot;</td><td>48.757456</td><td>1.983912</td><td>4188140583</td><td>&quot;IDFM:20775&quot;</td><td>&quot;Fermi&quot;</td><td>48.762009</td><td>1.98102</td><td>10575617690</td></tr><tr><td>&quot;IDFM:3070&quot;</td><td>&quot;Sous-Préfecture&quot;</td><td>48.436396</td><td>2.16458</td><td>534957188</td><td>&quot;IDFM:3082&quot;</td><td>&quot;Z.I. Coquerive&quot;</td><td>48.433424</td><td>2.173077</td><td>455621130</td></tr><tr><td>&quot;IDFM:426435&quot;</td><td>&quot;Ecole Jean Jaurès&quot;</td><td>48.979151</td><td>2.387531</td><td>8681364874</td><td>&quot;IDFM:25609&quot;</td><td>&quot;Garges - Sarcelles RER&quot;</td><td>48.977026</td><td>2.390466</td><td>6025223416</td></tr><tr><td>&quot;IDFM:12084&quot;</td><td>&quot;Pascal&quot;</td><td>48.743091</td><td>2.3178</td><td>446761005</td><td>&quot;IDFM:23031&quot;</td><td>&quot;Les Rabats&quot;</td><td>48.745709</td><td>2.314787</td><td>2328544996</td></tr><tr><td>&quot;IDFM:5503&quot;</td><td>&quot;La Croix Lieu&quot;</td><td>49.030521</td><td>2.021838</td><td>1865626649</td><td>&quot;IDFM:9052&quot;</td><td>&quot;Colucci Gandhi&quot;</td><td>49.028772</td><td>2.016893</td><td>5012557771</td></tr></tbody></table></div>"
      ],
      "text/plain": [
       "shape: (42_134, 10)\n",
       "┌───────────┬───────────┬───────────┬───────────┬───┬───────────┬───────────┬───────────┬──────────┐\n",
       "│ orig_stop ┆ orig_stop ┆ orig_stop ┆ orig_stop ┆ … ┆ dest_stop ┆ dest_stop ┆ dest_stop ┆ dest_nod │\n",
       "│ _id       ┆ _name     ┆ _lat      ┆ _lon      ┆   ┆ _name     ┆ _lat      ┆ _lon      ┆ e_id     │\n",
       "│ ---       ┆ ---       ┆ ---       ┆ ---       ┆   ┆ ---       ┆ ---       ┆ ---       ┆ ---      │\n",
       "│ str       ┆ str       ┆ f64       ┆ f64       ┆   ┆ str       ┆ f64       ┆ f64       ┆ i64      │\n",
       "╞═══════════╪═══════════╪═══════════╪═══════════╪═══╪═══════════╪═══════════╪═══════════╪══════════╡\n",
       "│ IDFM:4865 ┆ Le        ┆ 48.764005 ┆ 2.086507  ┆ … ┆ Technocen ┆ 48.757899 ┆ 2.087825  ┆ 10139511 │\n",
       "│           ┆ Gradient  ┆           ┆           ┆   ┆ tre -     ┆           ┆           ┆ 196      │\n",
       "│           ┆           ┆           ┆           ┆   ┆ L'Étang   ┆           ┆           ┆          │\n",
       "│ IDFM:2745 ┆ Chastenet ┆ 48.805797 ┆ 2.358141  ┆ … ┆ Les       ┆ 48.804297 ┆ 2.358554  ┆ 96550306 │\n",
       "│ 1         ┆ de Géry   ┆           ┆           ┆   ┆ Coquettes ┆           ┆           ┆ 93       │\n",
       "│ IDFM:4635 ┆ Ramponeau ┆ 48.870514 ┆ 2.378229  ┆ … ┆ Couronnes ┆ 48.868593 ┆ 2.380692  ┆ 17890617 │\n",
       "│ 91        ┆           ┆           ┆           ┆   ┆           ┆           ┆           ┆ 71       │\n",
       "│ IDFM:3981 ┆ Pont Neuf ┆ 48.858212 ┆ 2.34313   ┆ … ┆ Châtelet  ┆ 48.856934 ┆ 2.347848  ┆ 12031269 │\n",
       "│ 4         ┆ - Quai du ┆           ┆           ┆   ┆ - Quai de ┆           ┆           ┆ 002      │\n",
       "│           ┆ Louvre    ┆           ┆           ┆   ┆ Gesvres   ┆           ┆           ┆          │\n",
       "│ IDFM:1396 ┆ Péguy     ┆ 48.926359 ┆ 2.050164  ┆ … ┆ Commissar ┆ 48.927207 ┆ 2.043685  ┆ 47369088 │\n",
       "│ 2         ┆           ┆           ┆           ┆   ┆ iat       ┆           ┆           ┆ 1        │\n",
       "│ …         ┆ …         ┆ …         ┆ …         ┆ … ┆ …         ┆ …         ┆ …         ┆ …        │\n",
       "│ IDFM:2079 ┆ Circuit   ┆ 48.757456 ┆ 1.983912  ┆ … ┆ Fermi     ┆ 48.762009 ┆ 1.98102   ┆ 10575617 │\n",
       "│ 6         ┆ Automobil ┆           ┆           ┆   ┆           ┆           ┆           ┆ 690      │\n",
       "│           ┆ e         ┆           ┆           ┆   ┆           ┆           ┆           ┆          │\n",
       "│ IDFM:3070 ┆ Sous-Préf ┆ 48.436396 ┆ 2.16458   ┆ … ┆ Z.I.      ┆ 48.433424 ┆ 2.173077  ┆ 45562113 │\n",
       "│           ┆ ecture    ┆           ┆           ┆   ┆ Coquerive ┆           ┆           ┆ 0        │\n",
       "│ IDFM:4264 ┆ Ecole     ┆ 48.979151 ┆ 2.387531  ┆ … ┆ Garges -  ┆ 48.977026 ┆ 2.390466  ┆ 60252234 │\n",
       "│ 35        ┆ Jean      ┆           ┆           ┆   ┆ Sarcelles ┆           ┆           ┆ 16       │\n",
       "│           ┆ Jaurès    ┆           ┆           ┆   ┆ RER       ┆           ┆           ┆          │\n",
       "│ IDFM:1208 ┆ Pascal    ┆ 48.743091 ┆ 2.3178    ┆ … ┆ Les       ┆ 48.745709 ┆ 2.314787  ┆ 23285449 │\n",
       "│ 4         ┆           ┆           ┆           ┆   ┆ Rabats    ┆           ┆           ┆ 96       │\n",
       "│ IDFM:5503 ┆ La Croix  ┆ 49.030521 ┆ 2.021838  ┆ … ┆ Colucci   ┆ 49.028772 ┆ 2.016893  ┆ 50125577 │\n",
       "│           ┆ Lieu      ┆           ┆           ┆   ┆ Gandhi    ┆           ┆           ┆ 71       │\n",
       "└───────────┴───────────┴───────────┴───────────┴───┴───────────┴───────────┴───────────┴──────────┘"
      ]
     },
     "execution_count": 41,
     "metadata": {},
     "output_type": "execute_result"
    }
   ],
   "source": [
    "stop_pairs = (\n",
    "  pl.concat([stop_times.rename(lambda col: \"orig_\" + col),\n",
    "             stop_times.rename(lambda col: \"dest_\" + col).shift(-1)],\n",
    "             how='horizontal'\n",
    "            )\n",
    "  .filter(pl.col('orig_trip_id') == pl.col('dest_trip_id'))\n",
    "  .filter(pl.col('orig_stop_sequence') < pl.col('dest_stop_sequence'))\n",
    "  .filter(pl.col('orig_stop_id') != pl.col('dest_stop_id'))\n",
    "  .drop(['orig_trip_id', 'dest_trip_id', 'orig_stop_sequence', 'dest_stop_sequence']).unique()\n",
    ")\n",
    "stop_pairs = stop_pairs.collect()\n",
    "stop_pairs"
   ]
  },
  {
   "cell_type": "markdown",
   "metadata": {},
   "source": [
    "## Get paths"
   ]
  },
  {
   "cell_type": "code",
   "execution_count": 42,
   "metadata": {},
   "outputs": [],
   "source": [
    "# Compute shortest path between consecutive stops\n",
    "orig = stop_pairs['orig_node_id']\n",
    "dest = stop_pairs['dest_node_id']\n",
    "shortest = G.shortest_paths(orig, dest)"
   ]
  },
  {
   "cell_type": "code",
   "execution_count": 43,
   "metadata": {},
   "outputs": [],
   "source": [
    "# Enrich stop_pairs with shortest path\n",
    "stop_pairs = stop_pairs.with_columns(pl.Series(name=\"shortest_path\", values=shortest))"
   ]
  },
  {
   "cell_type": "markdown",
   "metadata": {},
   "source": [
    "### Convert paths to lists of position"
   ]
  },
  {
   "cell_type": "code",
   "execution_count": 44,
   "metadata": {},
   "outputs": [],
   "source": [
    "shortest_pos = [G.nodes_df.loc[s.tolist()] for s in shortest]"
   ]
  },
  {
   "cell_type": "code",
   "execution_count": 45,
   "metadata": {},
   "outputs": [],
   "source": [
    "# Enrich stop_pairs with shortest path positions\n",
    "stop_pairs = stop_pairs.with_columns(pl.Series(name='shortest_path_pos', values=shortest_pos))\n",
    "stop_pairs = stop_pairs.with_columns(pl.col('shortest_path_pos').map_elements(lambda x: LineString(x) if len(x) > 1 else None, return_dtype=pl.Object).alias(\"geometry\"))"
   ]
  },
  {
   "cell_type": "code",
   "execution_count": 46,
   "metadata": {},
   "outputs": [
    {
     "data": {
      "text/html": [
       "<div><style>\n",
       ".dataframe > thead > tr,\n",
       ".dataframe > tbody > tr {\n",
       "  text-align: right;\n",
       "  white-space: pre-wrap;\n",
       "}\n",
       "</style>\n",
       "<small>shape: (3, 13)</small><table border=\"1\" class=\"dataframe\"><thead><tr><th>orig_stop_id</th><th>orig_stop_name</th><th>orig_stop_lat</th><th>orig_stop_lon</th><th>orig_node_id</th><th>dest_stop_id</th><th>dest_stop_name</th><th>dest_stop_lat</th><th>dest_stop_lon</th><th>dest_node_id</th><th>shortest_path</th><th>shortest_path_pos</th><th>geometry</th></tr><tr><td>str</td><td>str</td><td>f64</td><td>f64</td><td>i64</td><td>str</td><td>str</td><td>f64</td><td>f64</td><td>i64</td><td>list[i64]</td><td>object</td><td>object</td></tr></thead><tbody><tr><td>&quot;IDFM:4865&quot;</td><td>&quot;Le Gradient&quot;</td><td>48.764005</td><td>2.086507</td><td>7838417158</td><td>&quot;IDFM:4566&quot;</td><td>&quot;Technocentre - L&#x27;Étang&quot;</td><td>48.757899</td><td>2.087825</td><td>10139511196</td><td>[7838417158, 265046080, … 10139511196]</td><td>                    x          y\n",
       "7838417158   2.086427  48.763931\n",
       "265046080    2.084471  48.765564\n",
       "7787057472   2.084442  48.765598\n",
       "265046081    2.084371  48.765739\n",
       "265046042    2.084358  48.765839\n",
       "...               ...        ...\n",
       "1332668337   2.087622  48.757908\n",
       "1332668394   2.087712  48.757896\n",
       "10139511194  2.087751  48.757885\n",
       "10139511195  2.087779  48.757874\n",
       "10139511196  2.087805  48.757862\n",
       "\n",
       "[69 rows x 2 columns]</td><td>LINESTRING (2.0864274501800537 48.76393127441406, 2.084470748901367 48.76556396484375, 2.084442138671875 48.76559829711914, 2.0843710899353027 48.76573944091797, 2.084357500076294 48.765838623046875, 2.0844056606292725 48.765865325927734, 2.0844430923461914 48.76589584350586, 2.084468364715576 48.765933990478516, 2.084479808807373 48.765987396240234, 2.0844662189483643 48.76604080200195, 2.084428548812866 48.766090393066406, 2.0843706130981445 48.76612854003906, 2.0842974185943604 48.766151428222656, 2.084216594696045 48.76616287231445, 2.08412504196167 48.766151428222656, 2.0840442180633545 48.7661247253418, 2.0839836597442627 48.766075134277344, 2.0839664936065674 48.766056060791016, 2.083954334259033 48.766029357910156, 2.0839462280273438 48.76597595214844, 2.0839638710021973 48.76592254638672, 2.084005117416382 48.76587677001953, 2.0840492248535156 48.765846252441406, 2.084101915359497 48.76582717895508, 2.084160089492798 48.76581573486328, 2.084221601486206 48.765811920166016, 2.084235906600952 48.76569366455078, 2.084298849105835 48.765541076660156, 2.084843397140503 48.76512145996094, 2.0855767726898193 48.76449966430664, 2.0858519077301025 48.76426696777344, 2.0860238075256348 48.764122009277344, 2.0864903926849365 48.76373291015625, 2.0867106914520264 48.763545989990234, 2.086956739425659 48.763343811035156, 2.087024211883545 48.76328659057617, 2.0883615016937256 48.76215744018555, 2.0883264541625977 48.762115478515625, 2.0883100032806396 48.76206970214844, 2.088313102722168 48.762020111083984, 2.0883359909057617 48.7619743347168, 2.0883679389953613 48.761940002441406, 2.0884106159210205 48.76191329956055, 2.088489532470703 48.76188278198242, 2.088578939437866 48.761871337890625, 2.0886685848236084 48.76188278198242, 2.0887832641601562 48.761817932128906, 2.0889201164245605 48.761695861816406, 2.0891001224517822 48.76154708862305, 2.0891764163970947 48.7614631652832, 2.0892927646636963 48.76128005981445, 2.0893328189849854 48.761146545410156, 2.089332103729248 48.760990142822266, 2.0892932415008545 48.76084899902344, 2.0890235900878906 48.760284423828125, 2.0889153480529785 48.760032653808594, 2.0888586044311523 48.759910583496094, 2.088716983795166 48.75960159301758, 2.0884642601013184 48.75905227661133, 2.0880467891693115 48.758121490478516, 2.087852716445923 48.75801086425781, 2.087794542312622 48.75798416137695, 2.0877468585968018 48.75796127319336, 2.0876989364624023 48.75794219970703, 2.0876219272613525 48.75790786743164, 2.087712049484253 48.757896423339844, 2.0877513885498047 48.75788497924805, 2.0877792835235596 48.75787353515625, 2.0878052711486816 48.75786209106445)</td></tr><tr><td>&quot;IDFM:27451&quot;</td><td>&quot;Chastenet de Géry&quot;</td><td>48.805797</td><td>2.358141</td><td>9655030692</td><td>&quot;IDFM:464058&quot;</td><td>&quot;Les Coquettes&quot;</td><td>48.804297</td><td>2.358554</td><td>9655030693</td><td>[9655030692, 4954866688, … 9655030693]</td><td>                   x          y\n",
       "9655030692  2.358221  48.805790\n",
       "4954866688  2.358266  48.805729\n",
       "5732693891  2.358303  48.805660\n",
       "9758772467  2.358359  48.805553\n",
       "771779566   2.358403  48.805447\n",
       "318537432   2.358411  48.805420\n",
       "771779493   2.358432  48.805355\n",
       "771779395   2.358455  48.805286\n",
       "9758772468  2.358475  48.805206\n",
       "318537433   2.358503  48.805073\n",
       "301374743   2.358542  48.804863\n",
       "9397113903  2.358551  48.804817\n",
       "9655030693  2.358645  48.804291</td><td>LINESTRING (2.3582212924957275 48.805789947509766, 2.3582656383514404 48.805728912353516, 2.3583028316497803 48.805660247802734, 2.3583590984344482 48.8055534362793, 2.358403205871582 48.80544662475586, 2.358410596847534 48.805419921875, 2.3584322929382324 48.805355072021484, 2.3584554195404053 48.8052864074707, 2.3584749698638916 48.805206298828125, 2.3585028648376465 48.80507278442383, 2.3585424423217773 48.80486297607422, 2.358551025390625 48.80481719970703, 2.35864520072937 48.804290771484375)</td></tr><tr><td>&quot;IDFM:463591&quot;</td><td>&quot;Ramponeau&quot;</td><td>48.870514</td><td>2.378229</td><td>1789061726</td><td>&quot;IDFM:463626&quot;</td><td>&quot;Couronnes&quot;</td><td>48.868593</td><td>2.380692</td><td>1789061771</td><td>[1789061726, 1789061997, … 1789061771]</td><td>                    x          y\n",
       "1789061726   2.378232  48.870686\n",
       "1789061997   2.379043  48.870064\n",
       "94149717     2.379104  48.870022\n",
       "1789061709   2.379174  48.869965\n",
       "11374124892  2.380010  48.869289\n",
       "1789061548   2.380372  48.868999\n",
       "8376891393   2.380457  48.868935\n",
       "60913509     2.380504  48.868896\n",
       "1789061771   2.380579  48.868839</td><td>LINESTRING (2.3782317638397217 48.87068557739258, 2.379042625427246 48.87006378173828, 2.3791043758392334 48.87002182006836, 2.379173994064331 48.869964599609375, 2.3800101280212402 48.86928939819336, 2.3803722858428955 48.86899948120117, 2.3804571628570557 48.868934631347656, 2.3805038928985596 48.868896484375, 2.3805794715881348 48.868839263916016)</td></tr></tbody></table></div>"
      ],
      "text/plain": [
       "shape: (3, 13)\n",
       "┌───────────┬───────────┬───────────┬───────────┬───┬───────────┬───────────┬───────────┬──────────┐\n",
       "│ orig_stop ┆ orig_stop ┆ orig_stop ┆ orig_stop ┆ … ┆ dest_node ┆ shortest_ ┆ shortest_ ┆ geometry │\n",
       "│ _id       ┆ _name     ┆ _lat      ┆ _lon      ┆   ┆ _id       ┆ path      ┆ path_pos  ┆ ---      │\n",
       "│ ---       ┆ ---       ┆ ---       ┆ ---       ┆   ┆ ---       ┆ ---       ┆ ---       ┆ object   │\n",
       "│ str       ┆ str       ┆ f64       ┆ f64       ┆   ┆ i64       ┆ list[i64] ┆ object    ┆          │\n",
       "╞═══════════╪═══════════╪═══════════╪═══════════╪═══╪═══════════╪═══════════╪═══════════╪══════════╡\n",
       "│ IDFM:4865 ┆ Le        ┆ 48.764005 ┆ 2.086507  ┆ … ┆ 101395111 ┆ [78384171 ┆ x         ┆ LINESTRI │\n",
       "│           ┆ Gradient  ┆           ┆           ┆   ┆ 96        ┆ 58, 26504 ┆ …         ┆ NG (2.08 │\n",
       "│           ┆           ┆           ┆           ┆   ┆           ┆ 6080, …   ┆           ┆ 64274501 │\n",
       "│           ┆           ┆           ┆           ┆   ┆           ┆ 1013…     ┆           ┆ 800537…  │\n",
       "│ IDFM:2745 ┆ Chastenet ┆ 48.805797 ┆ 2.358141  ┆ … ┆ 965503069 ┆ [96550306 ┆ x         ┆ LINESTRI │\n",
       "│ 1         ┆ de Géry   ┆           ┆           ┆   ┆ 3         ┆ 92, 49548 ┆ …         ┆ NG (2.35 │\n",
       "│           ┆           ┆           ┆           ┆   ┆           ┆ 66688, …  ┆           ┆ 82212924 │\n",
       "│           ┆           ┆           ┆           ┆   ┆           ┆ 965…      ┆           ┆ 957275…  │\n",
       "│ IDFM:4635 ┆ Ramponeau ┆ 48.870514 ┆ 2.378229  ┆ … ┆ 178906177 ┆ [17890617 ┆ x         ┆ LINESTRI │\n",
       "│ 91        ┆           ┆           ┆           ┆   ┆ 1         ┆ 26, 17890 ┆ …         ┆ NG (2.37 │\n",
       "│           ┆           ┆           ┆           ┆   ┆           ┆ 61997, …  ┆           ┆ 82317638 │\n",
       "│           ┆           ┆           ┆           ┆   ┆           ┆ 178…      ┆           ┆ 397217…  │\n",
       "└───────────┴───────────┴───────────┴───────────┴───┴───────────┴───────────┴───────────┴──────────┘"
      ]
     },
     "execution_count": 46,
     "metadata": {},
     "output_type": "execute_result"
    }
   ],
   "source": [
    "stop_pairs.head(3)"
   ]
  },
  {
   "cell_type": "markdown",
   "metadata": {},
   "source": [
    "## Example"
   ]
  },
  {
   "cell_type": "code",
   "execution_count": 77,
   "metadata": {},
   "outputs": [
    {
     "data": {
      "image/png": "[encoded data removed]",
      "text/plain": [
       "<Figure size 640x480 with 1 Axes>"
      ]
     },
     "metadata": {},
     "output_type": "display_data"
    }
   ],
   "source": [
    "# Plot route\n",
    "example = stop_pairs.head(1)\n",
    "path_node_pos = example.select('shortest_path_pos').item()\n",
    "path = example.select('geometry').item()\n",
    "title = example.select('orig_stop_name').item() + \" -> \" + example.select('dest_stop_name').item()\n",
    "\n",
    "plt.scatter(path_node_pos.x, path_node_pos.y)\n",
    "plt.plot(*path.xy)\n",
    "plt.title(title)\n",
    "plt.show()"
   ]
  },
  {
   "cell_type": "code",
   "execution_count": 48,
   "metadata": {},
   "outputs": [
    {
     "data": {
      "text/plain": [
       "array([ 7838417158,   265046080,  7787057472,   265046081,   265046042,\n",
       "        1311895975,  7787057466,   265046043,   265046044,  1311896143,\n",
       "         265046045,  1311895998,   265046046,   652432680,   265046047,\n",
       "        7787057467,   265046048,  7787057468,  1311895994,   338398928,\n",
       "        1311895996,   265046040,  1311895974,  1314566289,  7787057465,\n",
       "         265046041,   265046054,   265046055,  1315544268,  1312824175,\n",
       "        1312868555,   652423869,  1316081239,  1316081268,  7838417151,\n",
       "        1315544358,   265046067,  1311895986,  1311896008, 10139389215,\n",
       "         265046068,  1311896068,  1316575132,   265046069,  1311896019,\n",
       "         265046070,   265046351,   265046352,  5349705231,   265046353,\n",
       "         265046355,   265046356,  5349705230,   265046357,  1316575105,\n",
       "         652423891,  1332668388,  1332668390,   652423890,  1332668356,\n",
       "        1332668364, 10139511197, 10139511199, 10139511198,  1332668337,\n",
       "        1332668394, 10139511194, 10139511195, 10139511196])"
      ]
     },
     "execution_count": 48,
     "metadata": {},
     "output_type": "execute_result"
    }
   ],
   "source": [
    "shortest[0]"
   ]
  },
  {
   "cell_type": "code",
   "execution_count": 49,
   "metadata": {},
   "outputs": [
    {
     "data": {
      "text/html": [
       "<div>\n",
       "<style scoped>\n",
       "    .dataframe tbody tr th:only-of-type {\n",
       "        vertical-align: middle;\n",
       "    }\n",
       "\n",
       "    .dataframe tbody tr th {\n",
       "        vertical-align: top;\n",
       "    }\n",
       "\n",
       "    .dataframe thead th {\n",
       "        text-align: right;\n",
       "    }\n",
       "</style>\n",
       "<table border=\"1\" class=\"dataframe\">\n",
       "  <thead>\n",
       "    <tr style=\"text-align: right;\">\n",
       "      <th></th>\n",
       "      <th>x</th>\n",
       "      <th>y</th>\n",
       "    </tr>\n",
       "  </thead>\n",
       "  <tbody>\n",
       "    <tr>\n",
       "      <th>265046048</th>\n",
       "      <td>2.083984</td>\n",
       "      <td>48.766075</td>\n",
       "    </tr>\n",
       "    <tr>\n",
       "      <th>265046040</th>\n",
       "      <td>2.084005</td>\n",
       "      <td>48.765877</td>\n",
       "    </tr>\n",
       "    <tr>\n",
       "      <th>1311895974</th>\n",
       "      <td>2.084049</td>\n",
       "      <td>48.765846</td>\n",
       "    </tr>\n",
       "    <tr>\n",
       "      <th>1314566289</th>\n",
       "      <td>2.084102</td>\n",
       "      <td>48.765827</td>\n",
       "    </tr>\n",
       "    <tr>\n",
       "      <th>7787057465</th>\n",
       "      <td>2.084160</td>\n",
       "      <td>48.765816</td>\n",
       "    </tr>\n",
       "    <tr>\n",
       "      <th>...</th>\n",
       "      <td>...</td>\n",
       "      <td>...</td>\n",
       "    </tr>\n",
       "    <tr>\n",
       "      <th>1311896008</th>\n",
       "      <td>2.088310</td>\n",
       "      <td>48.762070</td>\n",
       "    </tr>\n",
       "    <tr>\n",
       "      <th>10139389215</th>\n",
       "      <td>2.088313</td>\n",
       "      <td>48.762020</td>\n",
       "    </tr>\n",
       "    <tr>\n",
       "      <th>1311896068</th>\n",
       "      <td>2.088368</td>\n",
       "      <td>48.761940</td>\n",
       "    </tr>\n",
       "    <tr>\n",
       "      <th>265046069</th>\n",
       "      <td>2.088490</td>\n",
       "      <td>48.761883</td>\n",
       "    </tr>\n",
       "    <tr>\n",
       "      <th>1311896019</th>\n",
       "      <td>2.088579</td>\n",
       "      <td>48.761871</td>\n",
       "    </tr>\n",
       "  </tbody>\n",
       "</table>\n",
       "<p>69 rows × 2 columns</p>\n",
       "</div>"
      ],
      "text/plain": [
       "                    x          y\n",
       "265046048    2.083984  48.766075\n",
       "265046040    2.084005  48.765877\n",
       "1311895974   2.084049  48.765846\n",
       "1314566289   2.084102  48.765827\n",
       "7787057465   2.084160  48.765816\n",
       "...               ...        ...\n",
       "1311896008   2.088310  48.762070\n",
       "10139389215  2.088313  48.762020\n",
       "1311896068   2.088368  48.761940\n",
       "265046069    2.088490  48.761883\n",
       "1311896019   2.088579  48.761871\n",
       "\n",
       "[69 rows x 2 columns]"
      ]
     },
     "execution_count": 49,
     "metadata": {},
     "output_type": "execute_result"
    }
   ],
   "source": [
    "G.nodes_df[G.nodes_df.index.isin(shortest[0])]"
   ]
  },
  {
   "cell_type": "code",
   "execution_count": 50,
   "metadata": {},
   "outputs": [
    {
     "data": {
      "text/html": [
       "<div>\n",
       "<style scoped>\n",
       "    .dataframe tbody tr th:only-of-type {\n",
       "        vertical-align: middle;\n",
       "    }\n",
       "\n",
       "    .dataframe tbody tr th {\n",
       "        vertical-align: top;\n",
       "    }\n",
       "\n",
       "    .dataframe thead th {\n",
       "        text-align: right;\n",
       "    }\n",
       "</style>\n",
       "<table border=\"1\" class=\"dataframe\">\n",
       "  <thead>\n",
       "    <tr style=\"text-align: right;\">\n",
       "      <th></th>\n",
       "      <th>x</th>\n",
       "      <th>y</th>\n",
       "    </tr>\n",
       "  </thead>\n",
       "  <tbody>\n",
       "    <tr>\n",
       "      <th>7838417158</th>\n",
       "      <td>2.086427</td>\n",
       "      <td>48.763931</td>\n",
       "    </tr>\n",
       "    <tr>\n",
       "      <th>265046080</th>\n",
       "      <td>2.084471</td>\n",
       "      <td>48.765564</td>\n",
       "    </tr>\n",
       "    <tr>\n",
       "      <th>7787057472</th>\n",
       "      <td>2.084442</td>\n",
       "      <td>48.765598</td>\n",
       "    </tr>\n",
       "    <tr>\n",
       "      <th>265046081</th>\n",
       "      <td>2.084371</td>\n",
       "      <td>48.765739</td>\n",
       "    </tr>\n",
       "    <tr>\n",
       "      <th>265046042</th>\n",
       "      <td>2.084358</td>\n",
       "      <td>48.765839</td>\n",
       "    </tr>\n",
       "    <tr>\n",
       "      <th>...</th>\n",
       "      <td>...</td>\n",
       "      <td>...</td>\n",
       "    </tr>\n",
       "    <tr>\n",
       "      <th>1332668337</th>\n",
       "      <td>2.087622</td>\n",
       "      <td>48.757908</td>\n",
       "    </tr>\n",
       "    <tr>\n",
       "      <th>1332668394</th>\n",
       "      <td>2.087712</td>\n",
       "      <td>48.757896</td>\n",
       "    </tr>\n",
       "    <tr>\n",
       "      <th>10139511194</th>\n",
       "      <td>2.087751</td>\n",
       "      <td>48.757885</td>\n",
       "    </tr>\n",
       "    <tr>\n",
       "      <th>10139511195</th>\n",
       "      <td>2.087779</td>\n",
       "      <td>48.757874</td>\n",
       "    </tr>\n",
       "    <tr>\n",
       "      <th>10139511196</th>\n",
       "      <td>2.087805</td>\n",
       "      <td>48.757862</td>\n",
       "    </tr>\n",
       "  </tbody>\n",
       "</table>\n",
       "<p>69 rows × 2 columns</p>\n",
       "</div>"
      ],
      "text/plain": [
       "                    x          y\n",
       "7838417158   2.086427  48.763931\n",
       "265046080    2.084471  48.765564\n",
       "7787057472   2.084442  48.765598\n",
       "265046081    2.084371  48.765739\n",
       "265046042    2.084358  48.765839\n",
       "...               ...        ...\n",
       "1332668337   2.087622  48.757908\n",
       "1332668394   2.087712  48.757896\n",
       "10139511194  2.087751  48.757885\n",
       "10139511195  2.087779  48.757874\n",
       "10139511196  2.087805  48.757862\n",
       "\n",
       "[69 rows x 2 columns]"
      ]
     },
     "execution_count": 50,
     "metadata": {},
     "output_type": "execute_result"
    }
   ],
   "source": [
    "shortest_pos[0]"
   ]
  },
  {
   "cell_type": "markdown",
   "metadata": {},
   "source": [
    "### Save data"
   ]
  },
  {
   "cell_type": "code",
   "execution_count": 51,
   "metadata": {},
   "outputs": [],
   "source": [
    "# Convert to GeoPandas and save to parquet file\n",
    "(\n",
    "    gpd.GeoDataFrame(\n",
    "        stop_pairs.to_pandas()\n",
    "    )\n",
    "    .drop(columns=['shortest_path', 'shortest_path_pos',\n",
    "                   'orig_node_id', 'dest_node_id',\n",
    "                   'orig_stop_name', 'dest_stop_name'])\n",
    "    .to_parquet('data/consecutive_stops_path.parquet')\n",
    ")"
   ]
  }
 ],
 "metadata": {
  "kernelspec": {
   "display_name": ".venv",
   "language": "python",
   "name": "python3"
  },
  "language_info": {
   "codemirror_mode": {
    "name": "ipython",
    "version": 3
   },
   "file_extension": ".py",
   "mimetype": "text/x-python",
   "name": "python",
   "nbconvert_exporter": "python",
   "pygments_lexer": "ipython3",
   "version": "3.12.4"
  }
 },
 "nbformat": 4,
 "nbformat_minor": 2
}

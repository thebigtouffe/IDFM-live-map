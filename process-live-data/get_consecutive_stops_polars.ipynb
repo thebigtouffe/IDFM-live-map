{
 "cells": [
  {
   "cell_type": "code",
   "execution_count": 11,
   "metadata": {},
   "outputs": [
    {
     "name": "stdout",
     "output_type": "stream",
     "text": [
      "Requirement already satisfied: polars in /Users/bubu/Dev/IDFM-live-map/.venv/lib/python3.12/site-packages (1.2.1)\n"
     ]
    }
   ],
   "source": [
    "!pip3 install polars pandana pandas pyrosm matplotlib numpy"
   ]
  },
  {
   "cell_type": "code",
   "execution_count": 1,
   "metadata": {},
   "outputs": [],
   "source": [
    "import polars as pl\n",
    "import os\n",
    "import pandas as pd\n",
    "import geopandas as gpd\n",
    "from pyrosm import OSM, get_data\n",
    "import numpy as np\n",
    "import matplotlib.pyplot as plt\n",
    "import pandana\n",
    "from shapely.geometry import LineString"
   ]
  },
  {
   "cell_type": "markdown",
   "metadata": {},
   "source": [
    "# Compute pairs of consecutive stops in the time table"
   ]
  },
  {
   "cell_type": "markdown",
   "metadata": {},
   "source": [
    "## Load data"
   ]
  },
  {
   "cell_type": "code",
   "execution_count": 2,
   "metadata": {},
   "outputs": [],
   "source": [
    "# GTFS data (used for timetable)\n",
    "STATIC_GTFS_URL=\"https://eu.ftp.opendatasoft.com/stif/GTFS/IDFM-gtfs.zip\"\n",
    "STATIC_GTFS_FILE_PATH=\"raw_data/gtfs.zip\"\n",
    "STATIC_GTFS_PATH=\"raw_data/gtfs\""
   ]
  },
  {
   "cell_type": "code",
   "execution_count": 36,
   "metadata": {},
   "outputs": [],
   "source": [
    "stop_times_path = os.path.join(STATIC_GTFS_PATH, 'stop_times.txt')\n",
    "stop_times_cols = ['trip_id','stop_id','stop_sequence']\n",
    "stop_times_dtype = {'trip_id': pl.String,\n",
    "                    'stop_id': pl.String,\n",
    "                    'stop_sequence': pl.Int16}\n",
    "stop_times = pl.scan_csv(stop_times_path, schema_overrides=stop_times_dtype).select(stop_times_cols)"
   ]
  },
  {
   "cell_type": "code",
   "execution_count": 35,
   "metadata": {},
   "outputs": [],
   "source": [
    "stops_path = os.path.join(STATIC_GTFS_PATH, 'stops.txt')\n",
    "stops_dtype = {'stop_id': pl.String,\n",
    "               'stop_lon': pl.Float64,\n",
    "               'stop_lat': pl.Float64\n",
    "               }\n",
    "stops = pl.scan_csv(stops_path, schema_overrides=stops_dtype).select(list(stops_dtype.keys()))"
   ]
  },
  {
   "cell_type": "markdown",
   "metadata": {},
   "source": [
    "# Compute graph of Ile-de-France driving network from OSM data"
   ]
  },
  {
   "cell_type": "code",
   "execution_count": 42,
   "metadata": {},
   "outputs": [],
   "source": [
    "# Download data for Ile de France region from OpenStreetMap\n",
    "idf_osm = OSM(get_data(\"Ile de France\"))"
   ]
  },
  {
   "cell_type": "code",
   "execution_count": 43,
   "metadata": {},
   "outputs": [],
   "source": [
    "# Parse street networks from OSM data\n",
    "nodes, edges = idf_osm.get_network(nodes=True, network_type=\"driving\")"
   ]
  },
  {
   "cell_type": "code",
   "execution_count": 24,
   "metadata": {},
   "outputs": [
    {
     "name": "stdout",
     "output_type": "stream",
     "text": [
      "Generating contraction hierarchies with 1 threads.\n",
      "Setting CH node vector of size 2172010\n",
      "Setting CH edge vector of size 3874586\n",
      "Range graph removed 3100764 edges of 7749172\n",
      ". 10% . 20% . 30% . 40% . 50% . 60% . 70% . 80% . 90% . 100%\n"
     ]
    }
   ],
   "source": [
    "# Export OSM network to routable graph\n",
    "G = idf_osm.to_graph(nodes, edges, graph_type=\"pandana\")"
   ]
  },
  {
   "cell_type": "code",
   "execution_count": 25,
   "metadata": {},
   "outputs": [],
   "source": [
    "# Save graph data\n",
    "G.save_hdf5('data/osm_driving_network.h5')"
   ]
  },
  {
   "cell_type": "code",
   "execution_count": 92,
   "metadata": {},
   "outputs": [],
   "source": [
    "# edges.to_parquet('data/osm_driving_edges.parquet')\n",
    "# nodes.to_parquet('data/osm_driving_nodes.parquet')"
   ]
  },
  {
   "cell_type": "markdown",
   "metadata": {},
   "source": [
    "## Load computed graph"
   ]
  },
  {
   "cell_type": "code",
   "execution_count": 25,
   "metadata": {},
   "outputs": [],
   "source": [
    "# edges = pd.read_parquet('data/osm_driving_edges.parquet')\n",
    "# nodes = pd.read_parquet('data/osm_driving_nodes.parquet')"
   ]
  },
  {
   "cell_type": "code",
   "execution_count": 5,
   "metadata": {},
   "outputs": [
    {
     "name": "stdout",
     "output_type": "stream",
     "text": [
      "Generating contraction hierarchies with 1 threads.\n",
      "Setting CH node vector of size 2172010\n",
      "Setting CH edge vector of size 3874586\n",
      "Range graph removed 3100764 edges of 7749172\n",
      ". 10% . 20% . 30% . 40% . 50% . 60% . 70% . 80% . 90% . 100%\n"
     ]
    }
   ],
   "source": [
    "G = pandana.Network.from_hdf5('data/osm_driving_network.h5')"
   ]
  },
  {
   "cell_type": "markdown",
   "metadata": {},
   "source": [
    "# Compute path between consecutive stops"
   ]
  },
  {
   "cell_type": "markdown",
   "metadata": {},
   "source": [
    "## Get node in graph of each stop"
   ]
  },
  {
   "cell_type": "code",
   "execution_count": 37,
   "metadata": {},
   "outputs": [],
   "source": [
    "stops_x_y = stops.select(['stop_lon', 'stop_lat']).collect().to_pandas()"
   ]
  },
  {
   "cell_type": "code",
   "execution_count": 38,
   "metadata": {},
   "outputs": [],
   "source": [
    "# Get nearest graph node of all stops for selected bus line\n",
    "node_ids = G.get_node_ids(stops_x_y.stop_lon.values, stops_x_y.stop_lat.values)"
   ]
  },
  {
   "cell_type": "code",
   "execution_count": 39,
   "metadata": {},
   "outputs": [],
   "source": [
    "# Enrich stops dataframe\n",
    "stops = stops.with_columns(pl.Series(name=\"node_id\", values=node_ids))"
   ]
  },
  {
   "cell_type": "markdown",
   "metadata": {},
   "source": [
    "## Enrich time table with stop data"
   ]
  },
  {
   "cell_type": "code",
   "execution_count": 40,
   "metadata": {},
   "outputs": [],
   "source": [
    "stop_times = stop_times.join(stops, on='stop_id')"
   ]
  },
  {
   "cell_type": "code",
   "execution_count": 41,
   "metadata": {},
   "outputs": [],
   "source": [
    "stop_times = stop_times.sort(['trip_id', 'stop_sequence'])"
   ]
  },
  {
   "cell_type": "markdown",
   "metadata": {},
   "source": [
    "## Get consecutive stops pairs"
   ]
  },
  {
   "cell_type": "code",
   "execution_count": 42,
   "metadata": {},
   "outputs": [
    {
     "data": {
      "text/html": [
       "<div><style>\n",
       ".dataframe > thead > tr,\n",
       ".dataframe > tbody > tr {\n",
       "  text-align: right;\n",
       "  white-space: pre-wrap;\n",
       "}\n",
       "</style>\n",
       "<small>shape: (42_134, 8)</small><table border=\"1\" class=\"dataframe\"><thead><tr><th>orig_stop_id</th><th>orig_stop_lon</th><th>orig_stop_lat</th><th>orig_node_id</th><th>dest_stop_id</th><th>dest_stop_lon</th><th>dest_stop_lat</th><th>dest_node_id</th></tr><tr><td>str</td><td>f64</td><td>f64</td><td>i64</td><td>str</td><td>f64</td><td>f64</td><td>i64</td></tr></thead><tbody><tr><td>&quot;IDFM:22493&quot;</td><td>2.762003</td><td>48.852718</td><td>10791288258</td><td>&quot;IDFM:478492&quot;</td><td>2.758723</td><td>48.854699</td><td>1579340034</td></tr><tr><td>&quot;IDFM:31558&quot;</td><td>1.641536</td><td>48.667162</td><td>1372433894</td><td>&quot;IDFM:31565&quot;</td><td>1.637522</td><td>48.665371</td><td>1372433906</td></tr><tr><td>&quot;IDFM:33488&quot;</td><td>2.601911</td><td>48.585681</td><td>4895409073</td><td>&quot;IDFM:33490&quot;</td><td>2.605809</td><td>48.584776</td><td>4895409071</td></tr><tr><td>&quot;IDFM:29562&quot;</td><td>2.000119</td><td>49.125802</td><td>4781257390</td><td>&quot;IDFM:29546&quot;</td><td>1.985352</td><td>49.138941</td><td>4781292156</td></tr><tr><td>&quot;IDFM:427704&quot;</td><td>2.512458</td><td>48.987008</td><td>9360197129</td><td>&quot;IDFM:488042&quot;</td><td>2.511824</td><td>48.984685</td><td>6781063040</td></tr><tr><td>&hellip;</td><td>&hellip;</td><td>&hellip;</td><td>&hellip;</td><td>&hellip;</td><td>&hellip;</td><td>&hellip;</td><td>&hellip;</td></tr><tr><td>&quot;IDFM:462583&quot;</td><td>2.413757</td><td>48.617277</td><td>1346356912</td><td>&quot;IDFM:3781&quot;</td><td>2.415037</td><td>48.613227</td><td>292760679</td></tr><tr><td>&quot;IDFM:19416&quot;</td><td>2.54022</td><td>48.899259</td><td>8089782173</td><td>&quot;IDFM:19499&quot;</td><td>2.547972</td><td>48.898722</td><td>8089782181</td></tr><tr><td>&quot;IDFM:420578&quot;</td><td>2.375208</td><td>48.896192</td><td>6130070532</td><td>&quot;IDFM:488016&quot;</td><td>2.357508</td><td>48.881466</td><td>9550005342</td></tr><tr><td>&quot;IDFM:35825&quot;</td><td>2.350175</td><td>48.813516</td><td>10713403978</td><td>&quot;IDFM:23391&quot;</td><td>2.346208</td><td>48.811642</td><td>10713403977</td></tr><tr><td>&quot;IDFM:27935&quot;</td><td>2.492197</td><td>48.894605</td><td>960792168</td><td>&quot;IDFM:27923&quot;</td><td>2.488277</td><td>48.895127</td><td>2579871212</td></tr></tbody></table></div>"
      ],
      "text/plain": [
       "shape: (42_134, 8)\n",
       "┌────────────┬────────────┬────────────┬───────────┬───────────┬───────────┬───────────┬───────────┐\n",
       "│ orig_stop_ ┆ orig_stop_ ┆ orig_stop_ ┆ orig_node ┆ dest_stop ┆ dest_stop ┆ dest_stop ┆ dest_node │\n",
       "│ id         ┆ lon        ┆ lat        ┆ _id       ┆ _id       ┆ _lon      ┆ _lat      ┆ _id       │\n",
       "│ ---        ┆ ---        ┆ ---        ┆ ---       ┆ ---       ┆ ---       ┆ ---       ┆ ---       │\n",
       "│ str        ┆ f64        ┆ f64        ┆ i64       ┆ str       ┆ f64       ┆ f64       ┆ i64       │\n",
       "╞════════════╪════════════╪════════════╪═══════════╪═══════════╪═══════════╪═══════════╪═══════════╡\n",
       "│ IDFM:22493 ┆ 2.762003   ┆ 48.852718  ┆ 107912882 ┆ IDFM:4784 ┆ 2.758723  ┆ 48.854699 ┆ 157934003 │\n",
       "│            ┆            ┆            ┆ 58        ┆ 92        ┆           ┆           ┆ 4         │\n",
       "│ IDFM:31558 ┆ 1.641536   ┆ 48.667162  ┆ 137243389 ┆ IDFM:3156 ┆ 1.637522  ┆ 48.665371 ┆ 137243390 │\n",
       "│            ┆            ┆            ┆ 4         ┆ 5         ┆           ┆           ┆ 6         │\n",
       "│ IDFM:33488 ┆ 2.601911   ┆ 48.585681  ┆ 489540907 ┆ IDFM:3349 ┆ 2.605809  ┆ 48.584776 ┆ 489540907 │\n",
       "│            ┆            ┆            ┆ 3         ┆ 0         ┆           ┆           ┆ 1         │\n",
       "│ IDFM:29562 ┆ 2.000119   ┆ 49.125802  ┆ 478125739 ┆ IDFM:2954 ┆ 1.985352  ┆ 49.138941 ┆ 478129215 │\n",
       "│            ┆            ┆            ┆ 0         ┆ 6         ┆           ┆           ┆ 6         │\n",
       "│ IDFM:42770 ┆ 2.512458   ┆ 48.987008  ┆ 936019712 ┆ IDFM:4880 ┆ 2.511824  ┆ 48.984685 ┆ 678106304 │\n",
       "│ 4          ┆            ┆            ┆ 9         ┆ 42        ┆           ┆           ┆ 0         │\n",
       "│ …          ┆ …          ┆ …          ┆ …         ┆ …         ┆ …         ┆ …         ┆ …         │\n",
       "│ IDFM:46258 ┆ 2.413757   ┆ 48.617277  ┆ 134635691 ┆ IDFM:3781 ┆ 2.415037  ┆ 48.613227 ┆ 292760679 │\n",
       "│ 3          ┆            ┆            ┆ 2         ┆           ┆           ┆           ┆           │\n",
       "│ IDFM:19416 ┆ 2.54022    ┆ 48.899259  ┆ 808978217 ┆ IDFM:1949 ┆ 2.547972  ┆ 48.898722 ┆ 808978218 │\n",
       "│            ┆            ┆            ┆ 3         ┆ 9         ┆           ┆           ┆ 1         │\n",
       "│ IDFM:42057 ┆ 2.375208   ┆ 48.896192  ┆ 613007053 ┆ IDFM:4880 ┆ 2.357508  ┆ 48.881466 ┆ 955000534 │\n",
       "│ 8          ┆            ┆            ┆ 2         ┆ 16        ┆           ┆           ┆ 2         │\n",
       "│ IDFM:35825 ┆ 2.350175   ┆ 48.813516  ┆ 107134039 ┆ IDFM:2339 ┆ 2.346208  ┆ 48.811642 ┆ 107134039 │\n",
       "│            ┆            ┆            ┆ 78        ┆ 1         ┆           ┆           ┆ 77        │\n",
       "│ IDFM:27935 ┆ 2.492197   ┆ 48.894605  ┆ 960792168 ┆ IDFM:2792 ┆ 2.488277  ┆ 48.895127 ┆ 257987121 │\n",
       "│            ┆            ┆            ┆           ┆ 3         ┆           ┆           ┆ 2         │\n",
       "└────────────┴────────────┴────────────┴───────────┴───────────┴───────────┴───────────┴───────────┘"
      ]
     },
     "execution_count": 42,
     "metadata": {},
     "output_type": "execute_result"
    }
   ],
   "source": [
    "stop_pairs = (\n",
    "  pl.concat([stop_times.rename(lambda col: \"orig_\" + col),\n",
    "             stop_times.rename(lambda col: \"dest_\" + col).shift(-1)],\n",
    "             how='horizontal'\n",
    "            )\n",
    "  .filter(pl.col('orig_trip_id') == pl.col('dest_trip_id'))\n",
    "  .filter(pl.col('orig_stop_sequence') < pl.col('dest_stop_sequence'))\n",
    "  .filter(pl.col('orig_stop_id') != pl.col('dest_stop_id'))\n",
    "  .drop(['orig_trip_id', 'dest_trip_id', 'orig_stop_sequence', 'dest_stop_sequence']).unique()\n",
    ")\n",
    "stop_pairs = stop_pairs.collect()\n",
    "stop_pairs"
   ]
  },
  {
   "cell_type": "markdown",
   "metadata": {},
   "source": [
    "## Get paths"
   ]
  },
  {
   "cell_type": "code",
   "execution_count": 43,
   "metadata": {},
   "outputs": [],
   "source": [
    "# Compute shortest path between consecutive stops\n",
    "orig = stop_pairs['orig_node_id']\n",
    "dest = stop_pairs['dest_node_id']\n",
    "shortest = G.shortest_paths(orig, dest)"
   ]
  },
  {
   "cell_type": "code",
   "execution_count": 44,
   "metadata": {},
   "outputs": [],
   "source": [
    "# Enrich stop_pairs with shortest path\n",
    "stop_pairs = stop_pairs.with_columns(pl.Series(name=\"shortest_path\", values=shortest))"
   ]
  },
  {
   "cell_type": "markdown",
   "metadata": {},
   "source": [
    "### Convert paths to lists of position"
   ]
  },
  {
   "cell_type": "code",
   "execution_count": 45,
   "metadata": {},
   "outputs": [],
   "source": [
    "shortest_pos = [G.nodes_df.loc[s.tolist()] for s in shortest]"
   ]
  },
  {
   "cell_type": "code",
   "execution_count": 46,
   "metadata": {},
   "outputs": [],
   "source": [
    "# Enrich stop_pairs with shortest path positions\n",
    "stop_pairs = stop_pairs.with_columns(pl.Series(name='shortest_path_pos', values=shortest_pos))\n",
    "stop_pairs = stop_pairs.with_columns(pl.col('shortest_path_pos').map_elements(lambda x: LineString(x) if len(x) > 1 else None, return_dtype=pl.Object).alias(\"geometry\"))"
   ]
  },
  {
   "cell_type": "code",
   "execution_count": 52,
   "metadata": {},
   "outputs": [
    {
     "data": {
      "text/html": [
       "<div><style>\n",
       ".dataframe > thead > tr,\n",
       ".dataframe > tbody > tr {\n",
       "  text-align: right;\n",
       "  white-space: pre-wrap;\n",
       "}\n",
       "</style>\n",
       "<small>shape: (3, 11)</small><table border=\"1\" class=\"dataframe\"><thead><tr><th>orig_stop_id</th><th>orig_stop_lon</th><th>orig_stop_lat</th><th>orig_node_id</th><th>dest_stop_id</th><th>dest_stop_lon</th><th>dest_stop_lat</th><th>dest_node_id</th><th>shortest_path</th><th>shortest_path_pos</th><th>geometry</th></tr><tr><td>str</td><td>f64</td><td>f64</td><td>i64</td><td>str</td><td>f64</td><td>f64</td><td>i64</td><td>list[i64]</td><td>object</td><td>object</td></tr></thead><tbody><tr><td>&quot;IDFM:22493&quot;</td><td>2.762003</td><td>48.852718</td><td>10791288258</td><td>&quot;IDFM:478492&quot;</td><td>2.758723</td><td>48.854699</td><td>1579340034</td><td>[10791288258, 1579339994, … 1579340034]</td><td>                    x          y\n",
       "10791288258  2.762025  48.852638\n",
       "1579339994   2.761872  48.852722\n",
       "1579340008   2.760899  48.853275\n",
       "254848346    2.760203  48.853668\n",
       "1579340032   2.758890  48.854408\n",
       "1579340034   2.758821  48.854446</td><td>LINESTRING (2.7620251178741455 48.852638244628906, 2.7618720531463623 48.85272216796875, 2.760899305343628 48.853275299072266, 2.7602028846740723 48.853668212890625, 2.758890390396118 48.854408264160156, 2.7588205337524414 48.85444641113281)</td></tr><tr><td>&quot;IDFM:31558&quot;</td><td>1.641536</td><td>48.667162</td><td>1372433894</td><td>&quot;IDFM:31565&quot;</td><td>1.637522</td><td>48.665371</td><td>1372433906</td><td>[1372433894, 1372433895, … 1372433906]</td><td>                   x          y\n",
       "1372433894  1.641761  48.667282\n",
       "1372433895  1.640190  48.666473\n",
       "1372433902  1.639304  48.666061\n",
       "1372433904  1.638237  48.665630\n",
       "1372433906  1.637148  48.665203</td><td>LINESTRING (1.641761302947998 48.66728210449219, 1.640189528465271 48.666473388671875, 1.6393043994903564 48.66606140136719, 1.6382367610931396 48.66563034057617, 1.637148141860962 48.66520309448242)</td></tr><tr><td>&quot;IDFM:33488&quot;</td><td>2.601911</td><td>48.585681</td><td>4895409073</td><td>&quot;IDFM:33490&quot;</td><td>2.605809</td><td>48.584776</td><td>4895409071</td><td>[4895409073, 1829984225, … 4895409071]</td><td>                    x          y\n",
       "4895409073   2.601869  48.585720\n",
       "1829984225   2.602091  48.585682\n",
       "2875907004   2.602188  48.585682\n",
       "4403447103   2.602253  48.585682\n",
       "4402799297   2.602319  48.585690\n",
       "1829984219   2.602444  48.585709\n",
       "2878064067   2.602615  48.585758\n",
       "2875902867   2.602753  48.585800\n",
       "11638481885  2.602793  48.585819\n",
       "1829984333   2.602828  48.585835\n",
       "1829984331   2.602861  48.585804\n",
       "1829984279   2.602906  48.585785\n",
       "1829984275   2.602958  48.585773\n",
       "2702960685   2.603012  48.585777\n",
       "2702960687   2.603063  48.585789\n",
       "11638728046  2.603093  48.585762\n",
       "2875902875   2.603115  48.585739\n",
       "2875907021   2.603205  48.585659\n",
       "2875907022   2.603337  48.585545\n",
       "2875907023   2.603469  48.585430\n",
       "2875907024   2.603602  48.585316\n",
       "2875907025   2.603748  48.585197\n",
       "2878004170   2.603849  48.585106\n",
       "2878004171   2.603898  48.585064\n",
       "2875907027   2.604003  48.584976\n",
       "2875907028   2.604133  48.584862\n",
       "2875907029   2.604266  48.584747\n",
       "2875907030   2.604400  48.584633\n",
       "2875907031   2.604533  48.584518\n",
       "2875902887   2.604620  48.584560\n",
       "5931379503   2.605462  48.584980\n",
       "2875907054   2.605484  48.584991\n",
       "2875907055   2.605570  48.584927\n",
       "2875907056   2.605684  48.584900\n",
       "2875907057   2.605783  48.584900\n",
       "4895409071   2.605864  48.584831</td><td>LINESTRING (2.6018688678741455 48.58572006225586, 2.602090835571289 48.5856819152832, 2.6021881103515625 48.5856819152832, 2.602252960205078 48.5856819152832, 2.6023190021514893 48.585689544677734, 2.6024441719055176 48.58570861816406, 2.602614641189575 48.585758209228516, 2.602753162384033 48.58580017089844, 2.6027934551239014 48.585819244384766, 2.60282826423645 48.58583450317383, 2.6028614044189453 48.5858039855957, 2.6029059886932373 48.585784912109375, 2.6029582023620605 48.58577346801758, 2.6030120849609375 48.585777282714844, 2.603062629699707 48.58578872680664, 2.603092908859253 48.58576202392578, 2.6031150817871094 48.58573913574219, 2.6032052040100098 48.58565902709961, 2.603337287902832 48.58554458618164, 2.6034693717956543 48.58543014526367, 2.603602170944214 48.5853157043457, 2.603747844696045 48.58519744873047, 2.603849411010742 48.585105895996094, 2.6038975715637207 48.58506393432617, 2.6040027141571045 48.58497619628906, 2.604133367538452 48.584861755371094, 2.6042661666870117 48.584747314453125, 2.604400396347046 48.584632873535156, 2.6045331954956055 48.58451843261719, 2.6046199798583984 48.58456039428711, 2.605461835861206 48.58498001098633, 2.6054844856262207 48.584991455078125, 2.605569839477539 48.58492660522461, 2.6056838035583496 48.58489990234375, 2.605782985687256 48.58489990234375, 2.6058638095855713 48.58483123779297)</td></tr></tbody></table></div>"
      ],
      "text/plain": [
       "shape: (3, 11)\n",
       "┌───────────┬───────────┬───────────┬───────────┬───┬───────────┬───────────┬───────────┬──────────┐\n",
       "│ orig_stop ┆ orig_stop ┆ orig_stop ┆ orig_node ┆ … ┆ dest_node ┆ shortest_ ┆ shortest_ ┆ geometry │\n",
       "│ _id       ┆ _lon      ┆ _lat      ┆ _id       ┆   ┆ _id       ┆ path      ┆ path_pos  ┆ ---      │\n",
       "│ ---       ┆ ---       ┆ ---       ┆ ---       ┆   ┆ ---       ┆ ---       ┆ ---       ┆ object   │\n",
       "│ str       ┆ f64       ┆ f64       ┆ i64       ┆   ┆ i64       ┆ list[i64] ┆ object    ┆          │\n",
       "╞═══════════╪═══════════╪═══════════╪═══════════╪═══╪═══════════╪═══════════╪═══════════╪══════════╡\n",
       "│ IDFM:2249 ┆ 2.762003  ┆ 48.852718 ┆ 107912882 ┆ … ┆ 157934003 ┆ [10791288 ┆ x         ┆ LINESTRI │\n",
       "│ 3         ┆           ┆           ┆ 58        ┆   ┆ 4         ┆ 258, 1579 ┆ …         ┆ NG (2.76 │\n",
       "│           ┆           ┆           ┆           ┆   ┆           ┆ 339994, … ┆           ┆ 20251178 │\n",
       "│           ┆           ┆           ┆           ┆   ┆           ┆ 15…       ┆           ┆ 741455…  │\n",
       "│ IDFM:3155 ┆ 1.641536  ┆ 48.667162 ┆ 137243389 ┆ … ┆ 137243390 ┆ [13724338 ┆ x         ┆ LINESTRI │\n",
       "│ 8         ┆           ┆           ┆ 4         ┆   ┆ 6         ┆ 94, 13724 ┆ …         ┆ NG (1.64 │\n",
       "│           ┆           ┆           ┆           ┆   ┆           ┆ 33895, …  ┆           ┆ 17613029 │\n",
       "│           ┆           ┆           ┆           ┆   ┆           ┆ 137…      ┆           ┆ 47998 …  │\n",
       "│ IDFM:3348 ┆ 2.601911  ┆ 48.585681 ┆ 489540907 ┆ … ┆ 489540907 ┆ [48954090 ┆ x         ┆ LINESTRI │\n",
       "│ 8         ┆           ┆           ┆ 3         ┆   ┆ 1         ┆ 73, 18299 ┆ …         ┆ NG (2.60 │\n",
       "│           ┆           ┆           ┆           ┆   ┆           ┆ 84225, …  ┆           ┆ 18688678 │\n",
       "│           ┆           ┆           ┆           ┆   ┆           ┆ 489…      ┆           ┆ 741455…  │\n",
       "└───────────┴───────────┴───────────┴───────────┴───┴───────────┴───────────┴───────────┴──────────┘"
      ]
     },
     "execution_count": 52,
     "metadata": {},
     "output_type": "execute_result"
    }
   ],
   "source": [
    "stop_pairs.head(3)"
   ]
  },
  {
   "cell_type": "markdown",
   "metadata": {},
   "source": [
    "## Example"
   ]
  },
  {
   "cell_type": "code",
   "execution_count": 48,
   "metadata": {},
   "outputs": [
    {
     "data": {
      "image/png": "[encoded data removed]",
      "text/plain": [
       "<Figure size 640x480 with 1 Axes>"
      ]
     },
     "metadata": {},
     "output_type": "display_data"
    }
   ],
   "source": [
    "# Plot route\n",
    "path_pos = G.nodes_df[G.nodes_df.index.isin(shortest[0])]\n",
    "\n",
    "plt.scatter(path_pos.x, path_pos.y)\n",
    "plt.show()"
   ]
  },
  {
   "cell_type": "code",
   "execution_count": 49,
   "metadata": {},
   "outputs": [
    {
     "data": {
      "text/plain": [
       "array([10791288258,  1579339994,  1579340008,   254848346,  1579340032,\n",
       "        1579340034])"
      ]
     },
     "execution_count": 49,
     "metadata": {},
     "output_type": "execute_result"
    }
   ],
   "source": [
    "shortest[0]"
   ]
  },
  {
   "cell_type": "code",
   "execution_count": 50,
   "metadata": {},
   "outputs": [
    {
     "data": {
      "text/html": [
       "<div>\n",
       "<style scoped>\n",
       "    .dataframe tbody tr th:only-of-type {\n",
       "        vertical-align: middle;\n",
       "    }\n",
       "\n",
       "    .dataframe tbody tr th {\n",
       "        vertical-align: top;\n",
       "    }\n",
       "\n",
       "    .dataframe thead th {\n",
       "        text-align: right;\n",
       "    }\n",
       "</style>\n",
       "<table border=\"1\" class=\"dataframe\">\n",
       "  <thead>\n",
       "    <tr style=\"text-align: right;\">\n",
       "      <th></th>\n",
       "      <th>x</th>\n",
       "      <th>y</th>\n",
       "    </tr>\n",
       "  </thead>\n",
       "  <tbody>\n",
       "    <tr>\n",
       "      <th>10791288258</th>\n",
       "      <td>2.762025</td>\n",
       "      <td>48.852638</td>\n",
       "    </tr>\n",
       "    <tr>\n",
       "      <th>1579339994</th>\n",
       "      <td>2.761872</td>\n",
       "      <td>48.852722</td>\n",
       "    </tr>\n",
       "    <tr>\n",
       "      <th>1579340008</th>\n",
       "      <td>2.760899</td>\n",
       "      <td>48.853275</td>\n",
       "    </tr>\n",
       "    <tr>\n",
       "      <th>254848346</th>\n",
       "      <td>2.760203</td>\n",
       "      <td>48.853668</td>\n",
       "    </tr>\n",
       "    <tr>\n",
       "      <th>1579340032</th>\n",
       "      <td>2.758890</td>\n",
       "      <td>48.854408</td>\n",
       "    </tr>\n",
       "    <tr>\n",
       "      <th>1579340034</th>\n",
       "      <td>2.758821</td>\n",
       "      <td>48.854446</td>\n",
       "    </tr>\n",
       "  </tbody>\n",
       "</table>\n",
       "</div>"
      ],
      "text/plain": [
       "                    x          y\n",
       "10791288258  2.762025  48.852638\n",
       "1579339994   2.761872  48.852722\n",
       "1579340008   2.760899  48.853275\n",
       "254848346    2.760203  48.853668\n",
       "1579340032   2.758890  48.854408\n",
       "1579340034   2.758821  48.854446"
      ]
     },
     "execution_count": 50,
     "metadata": {},
     "output_type": "execute_result"
    }
   ],
   "source": [
    "G.nodes_df[G.nodes_df.index.isin(shortest[0])]"
   ]
  },
  {
   "cell_type": "code",
   "execution_count": 51,
   "metadata": {},
   "outputs": [
    {
     "data": {
      "text/html": [
       "<div>\n",
       "<style scoped>\n",
       "    .dataframe tbody tr th:only-of-type {\n",
       "        vertical-align: middle;\n",
       "    }\n",
       "\n",
       "    .dataframe tbody tr th {\n",
       "        vertical-align: top;\n",
       "    }\n",
       "\n",
       "    .dataframe thead th {\n",
       "        text-align: right;\n",
       "    }\n",
       "</style>\n",
       "<table border=\"1\" class=\"dataframe\">\n",
       "  <thead>\n",
       "    <tr style=\"text-align: right;\">\n",
       "      <th></th>\n",
       "      <th>x</th>\n",
       "      <th>y</th>\n",
       "    </tr>\n",
       "  </thead>\n",
       "  <tbody>\n",
       "    <tr>\n",
       "      <th>10791288258</th>\n",
       "      <td>2.762025</td>\n",
       "      <td>48.852638</td>\n",
       "    </tr>\n",
       "    <tr>\n",
       "      <th>1579339994</th>\n",
       "      <td>2.761872</td>\n",
       "      <td>48.852722</td>\n",
       "    </tr>\n",
       "    <tr>\n",
       "      <th>1579340008</th>\n",
       "      <td>2.760899</td>\n",
       "      <td>48.853275</td>\n",
       "    </tr>\n",
       "    <tr>\n",
       "      <th>254848346</th>\n",
       "      <td>2.760203</td>\n",
       "      <td>48.853668</td>\n",
       "    </tr>\n",
       "    <tr>\n",
       "      <th>1579340032</th>\n",
       "      <td>2.758890</td>\n",
       "      <td>48.854408</td>\n",
       "    </tr>\n",
       "    <tr>\n",
       "      <th>1579340034</th>\n",
       "      <td>2.758821</td>\n",
       "      <td>48.854446</td>\n",
       "    </tr>\n",
       "  </tbody>\n",
       "</table>\n",
       "</div>"
      ],
      "text/plain": [
       "                    x          y\n",
       "10791288258  2.762025  48.852638\n",
       "1579339994   2.761872  48.852722\n",
       "1579340008   2.760899  48.853275\n",
       "254848346    2.760203  48.853668\n",
       "1579340032   2.758890  48.854408\n",
       "1579340034   2.758821  48.854446"
      ]
     },
     "execution_count": 51,
     "metadata": {},
     "output_type": "execute_result"
    }
   ],
   "source": [
    "shortest_pos[0]"
   ]
  }
 ],
 "metadata": {
  "kernelspec": {
   "display_name": ".venv",
   "language": "python",
   "name": "python3"
  },
  "language_info": {
   "codemirror_mode": {
    "name": "ipython",
    "version": 3
   },
   "file_extension": ".py",
   "mimetype": "text/x-python",
   "name": "python",
   "nbconvert_exporter": "python",
   "pygments_lexer": "ipython3",
   "version": "3.12.4"
  }
 },
 "nbformat": 4,
 "nbformat_minor": 2
}

{
 "cells": [
  {
   "cell_type": "code",
   "execution_count": 1,
   "metadata": {},
   "outputs": [
    {
     "name": "stdout",
     "output_type": "stream",
     "text": [
      "Requirement already satisfied: polars in /Users/bubu/Dev/IDFM-live-map/.venv/lib/python3.12/site-packages (1.2.1)\n"
     ]
    }
   ],
   "source": [
    "!pip3 install polars"
   ]
  },
  {
   "cell_type": "code",
   "execution_count": 2,
   "metadata": {},
   "outputs": [],
   "source": [
    "import polars as pl\n",
    "import os"
   ]
  },
  {
   "cell_type": "markdown",
   "metadata": {},
   "source": [
    "# Compute pairs of consecutive stops in the time table"
   ]
  },
  {
   "cell_type": "markdown",
   "metadata": {},
   "source": [
    "## Load data"
   ]
  },
  {
   "cell_type": "code",
   "execution_count": 3,
   "metadata": {},
   "outputs": [],
   "source": [
    "# GTFS data (used for timetable)\n",
    "STATIC_GTFS_URL=\"https://eu.ftp.opendatasoft.com/stif/GTFS/IDFM-gtfs.zip\"\n",
    "STATIC_GTFS_FILE_PATH=\"raw_data/gtfs.zip\"\n",
    "STATIC_GTFS_PATH=\"raw_data/gtfs\""
   ]
  },
  {
   "cell_type": "code",
   "execution_count": 4,
   "metadata": {},
   "outputs": [],
   "source": [
    "stop_times_path = os.path.join(STATIC_GTFS_PATH, 'stop_times.txt')\n",
    "stop_times_cols = ['trip_id','stop_id','stop_sequence']\n",
    "stop_times_dtype = {'trip_id': pl.String,\n",
    "                    'stop_id': pl.String,\n",
    "                    'stop_sequence': pl.Int16}\n",
    "stop_times = pl.scan_csv(stop_times_path, schema_overrides=stop_times_dtype).select(stop_times_cols)"
   ]
  },
  {
   "cell_type": "code",
   "execution_count": 5,
   "metadata": {},
   "outputs": [],
   "source": [
    "stops_path = os.path.join(STATIC_GTFS_PATH, 'stops.txt')\n",
    "stops_dtype = {'stop_id': pl.String,\n",
    "               'stop_lon': pl.Float64,\n",
    "               'stop_lat': pl.Float64\n",
    "               }\n",
    "stops = pl.scan_csv(stops_path, schema_overrides=stops_dtype).select(list(stops_dtype.keys()))"
   ]
  },
  {
   "cell_type": "markdown",
   "metadata": {},
   "source": [
    "## Enrich time table with stop data"
   ]
  },
  {
   "cell_type": "code",
   "execution_count": 6,
   "metadata": {},
   "outputs": [],
   "source": [
    "stop_times = stop_times.join(stops, on='stop_id')"
   ]
  },
  {
   "cell_type": "code",
   "execution_count": 7,
   "metadata": {},
   "outputs": [],
   "source": [
    "stop_times = stop_times.sort(['trip_id', 'stop_sequence'])"
   ]
  },
  {
   "cell_type": "markdown",
   "metadata": {},
   "source": [
    "## Get consecutive stops pairs"
   ]
  },
  {
   "cell_type": "code",
   "execution_count": 8,
   "metadata": {},
   "outputs": [],
   "source": [
    "stop_pairs = (\n",
    "    (\n",
    "        (\n",
    "            pl.concat([stop_times.rename(lambda col: \"orig_\" + col),\n",
    "                       stop_times.rename(lambda col: \"dest_\" + col).shift(-1)],\n",
    "                      how='horizontal'\n",
    "                      )\n",
    "        ).filter(pl.col('orig_trip_id') == pl.col('dest_trip_id'))\n",
    "    ).filter(pl.col('orig_stop_sequence') < pl.col('dest_stop_sequence'))\n",
    ").drop(['orig_trip_id', 'dest_trip_id', 'orig_stop_sequence', 'dest_stop_sequence']).unique()"
   ]
  },
  {
   "cell_type": "code",
   "execution_count": 9,
   "metadata": {},
   "outputs": [
    {
     "data": {
      "text/html": [
       "<div><style>\n",
       ".dataframe > thead > tr,\n",
       ".dataframe > tbody > tr {\n",
       "  text-align: right;\n",
       "  white-space: pre-wrap;\n",
       "}\n",
       "</style>\n",
       "<small>shape: (42_153, 6)</small><table border=\"1\" class=\"dataframe\"><thead><tr><th>orig_stop_id</th><th>orig_stop_lon</th><th>orig_stop_lat</th><th>dest_stop_id</th><th>dest_stop_lon</th><th>dest_stop_lat</th></tr><tr><td>str</td><td>f64</td><td>f64</td><td>str</td><td>f64</td><td>f64</td></tr></thead><tbody><tr><td>&quot;IDFM:39762&quot;</td><td>2.333002</td><td>48.883787</td><td>&quot;IDFM:28561&quot;</td><td>2.328822</td><td>48.884357</td></tr><tr><td>&quot;IDFM:26940&quot;</td><td>2.553477</td><td>48.799186</td><td>&quot;IDFM:26942&quot;</td><td>2.557252</td><td>48.798696</td></tr><tr><td>&quot;IDFM:7161&quot;</td><td>3.034617</td><td>48.386554</td><td>&quot;IDFM:7162&quot;</td><td>3.023515</td><td>48.385202</td></tr><tr><td>&quot;IDFM:monomodalStopPlace:411396&quot;</td><td>2.8881</td><td>49.231083</td><td>&quot;IDFM:monomodalStopPlace:411387&quot;</td><td>2.837987</td><td>49.200711</td></tr><tr><td>&quot;IDFM:18880&quot;</td><td>2.54213</td><td>48.892917</td><td>&quot;IDFM:479768&quot;</td><td>2.543405</td><td>48.895278</td></tr><tr><td>&hellip;</td><td>&hellip;</td><td>&hellip;</td><td>&hellip;</td><td>&hellip;</td><td>&hellip;</td></tr><tr><td>&quot;IDFM:486588&quot;</td><td>2.305745</td><td>48.813032</td><td>&quot;IDFM:488474&quot;</td><td>2.307256</td><td>48.816144</td></tr><tr><td>&quot;IDFM:9962&quot;</td><td>2.067326</td><td>48.763866</td><td>&quot;IDFM:20651&quot;</td><td>2.06922</td><td>48.765203</td></tr><tr><td>&quot;IDFM:463774&quot;</td><td>2.372151</td><td>48.83869</td><td>&quot;IDFM:463524&quot;</td><td>2.373229</td><td>48.8374</td></tr><tr><td>&quot;IDFM:480177&quot;</td><td>2.279</td><td>48.886847</td><td>&quot;IDFM:480175&quot;</td><td>2.281024</td><td>48.884503</td></tr><tr><td>&quot;IDFM:18423&quot;</td><td>1.716031</td><td>49.005607</td><td>&quot;IDFM:424546&quot;</td><td>1.721899</td><td>48.999905</td></tr></tbody></table></div>"
      ],
      "text/plain": [
       "shape: (42_153, 6)\n",
       "┌─────────────────┬───────────────┬───────────────┬────────────────┬───────────────┬───────────────┐\n",
       "│ orig_stop_id    ┆ orig_stop_lon ┆ orig_stop_lat ┆ dest_stop_id   ┆ dest_stop_lon ┆ dest_stop_lat │\n",
       "│ ---             ┆ ---           ┆ ---           ┆ ---            ┆ ---           ┆ ---           │\n",
       "│ str             ┆ f64           ┆ f64           ┆ str            ┆ f64           ┆ f64           │\n",
       "╞═════════════════╪═══════════════╪═══════════════╪════════════════╪═══════════════╪═══════════════╡\n",
       "│ IDFM:39762      ┆ 2.333002      ┆ 48.883787     ┆ IDFM:28561     ┆ 2.328822      ┆ 48.884357     │\n",
       "│ IDFM:26940      ┆ 2.553477      ┆ 48.799186     ┆ IDFM:26942     ┆ 2.557252      ┆ 48.798696     │\n",
       "│ IDFM:7161       ┆ 3.034617      ┆ 48.386554     ┆ IDFM:7162      ┆ 3.023515      ┆ 48.385202     │\n",
       "│ IDFM:monomodalS ┆ 2.8881        ┆ 49.231083     ┆ IDFM:monomodal ┆ 2.837987      ┆ 49.200711     │\n",
       "│ topPlace:411396 ┆               ┆               ┆ StopPlace:4113 ┆               ┆               │\n",
       "│                 ┆               ┆               ┆ 87             ┆               ┆               │\n",
       "│ IDFM:18880      ┆ 2.54213       ┆ 48.892917     ┆ IDFM:479768    ┆ 2.543405      ┆ 48.895278     │\n",
       "│ …               ┆ …             ┆ …             ┆ …              ┆ …             ┆ …             │\n",
       "│ IDFM:486588     ┆ 2.305745      ┆ 48.813032     ┆ IDFM:488474    ┆ 2.307256      ┆ 48.816144     │\n",
       "│ IDFM:9962       ┆ 2.067326      ┆ 48.763866     ┆ IDFM:20651     ┆ 2.06922       ┆ 48.765203     │\n",
       "│ IDFM:463774     ┆ 2.372151      ┆ 48.83869      ┆ IDFM:463524    ┆ 2.373229      ┆ 48.8374       │\n",
       "│ IDFM:480177     ┆ 2.279         ┆ 48.886847     ┆ IDFM:480175    ┆ 2.281024      ┆ 48.884503     │\n",
       "│ IDFM:18423      ┆ 1.716031      ┆ 49.005607     ┆ IDFM:424546    ┆ 1.721899      ┆ 48.999905     │\n",
       "└─────────────────┴───────────────┴───────────────┴────────────────┴───────────────┴───────────────┘"
      ]
     },
     "execution_count": 9,
     "metadata": {},
     "output_type": "execute_result"
    }
   ],
   "source": [
    "stop_pairs.collect()"
   ]
  }
 ],
 "metadata": {
  "kernelspec": {
   "display_name": ".venv",
   "language": "python",
   "name": "python3"
  },
  "language_info": {
   "codemirror_mode": {
    "name": "ipython",
    "version": 3
   },
   "file_extension": ".py",
   "mimetype": "text/x-python",
   "name": "python",
   "nbconvert_exporter": "python",
   "pygments_lexer": "ipython3",
   "version": "3.12.4"
  }
 },
 "nbformat": 4,
 "nbformat_minor": 2
}

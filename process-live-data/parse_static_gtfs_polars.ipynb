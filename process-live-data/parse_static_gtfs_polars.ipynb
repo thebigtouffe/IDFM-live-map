{
 "cells": [
  {
   "cell_type": "code",
   "execution_count": 1,
   "metadata": {},
   "outputs": [],
   "source": [
    "import polars as pl\n",
    "import os"
   ]
  },
  {
   "cell_type": "markdown",
   "metadata": {},
   "source": [
    "# Download and extract GTFS data from IDFM"
   ]
  },
  {
   "cell_type": "code",
   "execution_count": 2,
   "metadata": {
    "vscode": {
     "languageId": "shellscript"
    }
   },
   "outputs": [],
   "source": [
    "# GTFS data (used for timetable)\n",
    "STATIC_GTFS_URL=\"https://eu.ftp.opendatasoft.com/stif/GTFS/IDFM-gtfs.zip\"\n",
    "STATIC_GTFS_FILE_PATH=\"raw_data/gtfs.zip\"\n",
    "STATIC_GTFS_PATH=\"raw_data/gtfs\""
   ]
  },
  {
   "cell_type": "code",
   "execution_count": 3,
   "metadata": {
    "vscode": {
     "languageId": "shellscript"
    }
   },
   "outputs": [
    {
     "name": "stdout",
     "output_type": "stream",
     "text": [
      "--2024-08-06 08:33:58--  https://eu.ftp.opendatasoft.com/stif/GTFS/IDFM-gtfs.zip\n",
      "Resolving eu.ftp.opendatasoft.com (eu.ftp.opendatasoft.com)... 52.18.186.238\n",
      "Connecting to eu.ftp.opendatasoft.com (eu.ftp.opendatasoft.com)|52.18.186.238|:443... connected.\n",
      "HTTP request sent, awaiting response... 200 OK\n",
      "Length: 99296989 (95M) [application/zip]\n",
      "Saving to: ‘raw_data/gtfs.zip’\n",
      "\n",
      "raw_data/gtfs.zip   100%[===================>]  94,70M  34,3MB/s    in 2,8s    \n",
      "\n",
      "2024-08-06 08:34:01 (34,3 MB/s) - ‘raw_data/gtfs.zip’ saved [99296989/99296989]\n",
      "\n",
      "Archive:  raw_data/gtfs.zip\n",
      "  inflating: raw_data/gtfs/transfers.txt  \n",
      "  inflating: raw_data/gtfs/ticketing_deep_links.txt  \n",
      "  inflating: raw_data/gtfs/agency.txt  \n",
      "  inflating: raw_data/gtfs/calendar_dates.txt  \n",
      "  inflating: raw_data/gtfs/calendar.txt  \n",
      "  inflating: raw_data/gtfs/stops.txt  \n",
      "  inflating: raw_data/gtfs/trips.txt  \n",
      "  inflating: raw_data/gtfs/routes.txt  \n",
      "  inflating: raw_data/gtfs/stop_extensions.txt  \n",
      "  inflating: raw_data/gtfs/stop_times.txt  \n",
      "  inflating: raw_data/gtfs/pathways.txt  \n"
     ]
    }
   ],
   "source": [
    "!mkdir -p $STATIC_GTFS_PATH\n",
    "!wget $STATIC_GTFS_URL -O $STATIC_GTFS_FILE_PATH\n",
    "!unzip -o $STATIC_GTFS_FILE_PATH -d $STATIC_GTFS_PATH"
   ]
  },
  {
   "cell_type": "markdown",
   "metadata": {},
   "source": [
    "# Loading and parsing GTFS data"
   ]
  },
  {
   "cell_type": "code",
   "execution_count": 11,
   "metadata": {},
   "outputs": [
    {
     "data": {
      "text/html": [
       "<div><style>\n",
       ".dataframe > thead > tr,\n",
       ".dataframe > tbody > tr {\n",
       "  text-align: right;\n",
       "  white-space: pre-wrap;\n",
       "}\n",
       "</style>\n",
       "<small>shape: (5, 10)</small><table border=\"1\" class=\"dataframe\"><thead><tr><th>service_id</th><th>monday</th><th>tuesday</th><th>wednesday</th><th>thursday</th><th>friday</th><th>saturday</th><th>sunday</th><th>start_date</th><th>end_date</th></tr><tr><td>cat</td><td>bool</td><td>bool</td><td>bool</td><td>bool</td><td>bool</td><td>bool</td><td>bool</td><td>date</td><td>date</td></tr></thead><tbody><tr><td>&quot;IDFM:1&quot;</td><td>true</td><td>true</td><td>false</td><td>false</td><td>false</td><td>false</td><td>false</td><td>2024-09-02</td><td>2024-09-03</td></tr><tr><td>&quot;IDFM:1000&quot;</td><td>true</td><td>true</td><td>true</td><td>true</td><td>true</td><td>true</td><td>true</td><td>2024-08-05</td><td>2024-09-03</td></tr><tr><td>&quot;IDFM:3200&quot;</td><td>true</td><td>false</td><td>false</td><td>false</td><td>false</td><td>false</td><td>true</td><td>2024-08-05</td><td>2024-09-01</td></tr><tr><td>&quot;IDFM:3566&quot;</td><td>true</td><td>false</td><td>false</td><td>false</td><td>false</td><td>false</td><td>false</td><td>2024-08-05</td><td>2024-08-26</td></tr><tr><td>&quot;IDFM:4880&quot;</td><td>true</td><td>true</td><td>false</td><td>true</td><td>true</td><td>false</td><td>false</td><td>2024-08-05</td><td>2024-08-30</td></tr></tbody></table></div>"
      ],
      "text/plain": [
       "shape: (5, 10)\n",
       "┌────────────┬────────┬─────────┬───────────┬───┬──────────┬────────┬────────────┬────────────┐\n",
       "│ service_id ┆ monday ┆ tuesday ┆ wednesday ┆ … ┆ saturday ┆ sunday ┆ start_date ┆ end_date   │\n",
       "│ ---        ┆ ---    ┆ ---     ┆ ---       ┆   ┆ ---      ┆ ---    ┆ ---        ┆ ---        │\n",
       "│ cat        ┆ bool   ┆ bool    ┆ bool      ┆   ┆ bool     ┆ bool   ┆ date       ┆ date       │\n",
       "╞════════════╪════════╪═════════╪═══════════╪═══╪══════════╪════════╪════════════╪════════════╡\n",
       "│ IDFM:1     ┆ true   ┆ true    ┆ false     ┆ … ┆ false    ┆ false  ┆ 2024-09-02 ┆ 2024-09-03 │\n",
       "│ IDFM:1000  ┆ true   ┆ true    ┆ true      ┆ … ┆ true     ┆ true   ┆ 2024-08-05 ┆ 2024-09-03 │\n",
       "│ IDFM:3200  ┆ true   ┆ false   ┆ false     ┆ … ┆ false    ┆ true   ┆ 2024-08-05 ┆ 2024-09-01 │\n",
       "│ IDFM:3566  ┆ true   ┆ false   ┆ false     ┆ … ┆ false    ┆ false  ┆ 2024-08-05 ┆ 2024-08-26 │\n",
       "│ IDFM:4880  ┆ true   ┆ true    ┆ false     ┆ … ┆ false    ┆ false  ┆ 2024-08-05 ┆ 2024-08-30 │\n",
       "└────────────┴────────┴─────────┴───────────┴───┴──────────┴────────┴────────────┴────────────┘"
      ]
     },
     "execution_count": 11,
     "metadata": {},
     "output_type": "execute_result"
    }
   ],
   "source": [
    "calendar_path = os.path.join(STATIC_GTFS_PATH, 'calendar.txt')\n",
    "calendar_dtype = {'service_id': pl.Categorical,\n",
    "                  'monday': pl.Int16,\n",
    "                  'tuesday': pl.Int16,\n",
    "                  'wednesday': pl.Int16,\n",
    "                  'thursday': pl.Int16,\n",
    "                  'friday': pl.Int16,\n",
    "                  'saturday': pl.Int16,\n",
    "                  'sunday': pl.Int16,\n",
    "                  'start_date': pl.String,\n",
    "                  'end_date': pl.String\n",
    "                  }\n",
    "calendar = pl.scan_csv(calendar_path, schema_overrides=calendar_dtype).select(list(calendar_dtype.keys()))\n",
    "calendar = (\n",
    "    calendar\n",
    "    .with_columns(pl.col('monday').cast(pl.Boolean))\n",
    "    .with_columns(pl.col('tuesday').cast(pl.Boolean))\n",
    "    .with_columns(pl.col('tuesday').cast(pl.Boolean))\n",
    "    .with_columns(pl.col('tuesday').cast(pl.Boolean))\n",
    "    .with_columns(pl.col('wednesday').cast(pl.Boolean))\n",
    "    .with_columns(pl.col('thursday').cast(pl.Boolean))\n",
    "    .with_columns(pl.col('friday').cast(pl.Boolean))\n",
    "    .with_columns(pl.col('saturday').cast(pl.Boolean))\n",
    "    .with_columns(pl.col('sunday').cast(pl.Boolean))\n",
    "    .with_columns(pl.col(\"start_date\").cast(pl.String).str.to_date(\"%Y%m%d\"))\n",
    "    .with_columns(pl.col(\"end_date\").cast(pl.String).str.to_date(\"%Y%m%d\"))\n",
    ")\n",
    "calendar.head().collect()"
   ]
  },
  {
   "cell_type": "code",
   "execution_count": 12,
   "metadata": {},
   "outputs": [
    {
     "data": {
      "text/html": [
       "<div><style>\n",
       ".dataframe > thead > tr,\n",
       ".dataframe > tbody > tr {\n",
       "  text-align: right;\n",
       "  white-space: pre-wrap;\n",
       "}\n",
       "</style>\n",
       "<small>shape: (5, 7)</small><table border=\"1\" class=\"dataframe\"><thead><tr><th>stop_id</th><th>stop_name</th><th>stop_lon</th><th>stop_lat</th><th>zone_id</th><th>wheelchair_boarding</th><th>platform_code</th></tr><tr><td>str</td><td>str</td><td>f64</td><td>f64</td><td>cat</td><td>cat</td><td>cat</td></tr></thead><tbody><tr><td>&quot;IDFM:monomodalStopPlace:46689&quot;</td><td>&quot;Viroflay Rive Droite&quot;</td><td>2.167655</td><td>48.805473</td><td>&quot;3&quot;</td><td>&quot;1&quot;</td><td>null</td></tr><tr><td>&quot;IDFM:monomodalStopPlace:46647&quot;</td><td>&quot;Achères Ville&quot;</td><td>2.077727</td><td>48.970644</td><td>&quot;5&quot;</td><td>&quot;1&quot;</td><td>null</td></tr><tr><td>&quot;IDFM:monomodalStopPlace:474069&quot;</td><td>&quot;Lozère&quot;</td><td>2.212718</td><td>48.705912</td><td>&quot;4&quot;</td><td>&quot;1&quot;</td><td>null</td></tr><tr><td>&quot;IDFM:monomodalStopPlace:474082&quot;</td><td>&quot;Noisy-le-Grand - Mont d&#x27;Est&quot;</td><td>2.550027</td><td>48.840885</td><td>&quot;4&quot;</td><td>&quot;1&quot;</td><td>null</td></tr><tr><td>&quot;IDFM:monomodalStopPlace:45102&quot;</td><td>&quot;Châtelet les Halles&quot;</td><td>2.346977</td><td>48.861745</td><td>&quot;1&quot;</td><td>&quot;1&quot;</td><td>null</td></tr></tbody></table></div>"
      ],
      "text/plain": [
       "shape: (5, 7)\n",
       "┌────────────────┬────────────────┬──────────┬───────────┬─────────┬───────────────┬───────────────┐\n",
       "│ stop_id        ┆ stop_name      ┆ stop_lon ┆ stop_lat  ┆ zone_id ┆ wheelchair_bo ┆ platform_code │\n",
       "│ ---            ┆ ---            ┆ ---      ┆ ---       ┆ ---     ┆ arding        ┆ ---           │\n",
       "│ str            ┆ str            ┆ f64      ┆ f64       ┆ cat     ┆ ---           ┆ cat           │\n",
       "│                ┆                ┆          ┆           ┆         ┆ cat           ┆               │\n",
       "╞════════════════╪════════════════╪══════════╪═══════════╪═════════╪═══════════════╪═══════════════╡\n",
       "│ IDFM:monomodal ┆ Viroflay Rive  ┆ 2.167655 ┆ 48.805473 ┆ 3       ┆ 1             ┆ null          │\n",
       "│ StopPlace:4668 ┆ Droite         ┆          ┆           ┆         ┆               ┆               │\n",
       "│ 9              ┆                ┆          ┆           ┆         ┆               ┆               │\n",
       "│ IDFM:monomodal ┆ Achères Ville  ┆ 2.077727 ┆ 48.970644 ┆ 5       ┆ 1             ┆ null          │\n",
       "│ StopPlace:4664 ┆                ┆          ┆           ┆         ┆               ┆               │\n",
       "│ 7              ┆                ┆          ┆           ┆         ┆               ┆               │\n",
       "│ IDFM:monomodal ┆ Lozère         ┆ 2.212718 ┆ 48.705912 ┆ 4       ┆ 1             ┆ null          │\n",
       "│ StopPlace:4740 ┆                ┆          ┆           ┆         ┆               ┆               │\n",
       "│ 69             ┆                ┆          ┆           ┆         ┆               ┆               │\n",
       "│ IDFM:monomodal ┆ Noisy-le-Grand ┆ 2.550027 ┆ 48.840885 ┆ 4       ┆ 1             ┆ null          │\n",
       "│ StopPlace:4740 ┆ - Mont d'Est   ┆          ┆           ┆         ┆               ┆               │\n",
       "│ 82             ┆                ┆          ┆           ┆         ┆               ┆               │\n",
       "│ IDFM:monomodal ┆ Châtelet les   ┆ 2.346977 ┆ 48.861745 ┆ 1       ┆ 1             ┆ null          │\n",
       "│ StopPlace:4510 ┆ Halles         ┆          ┆           ┆         ┆               ┆               │\n",
       "│ 2              ┆                ┆          ┆           ┆         ┆               ┆               │\n",
       "└────────────────┴────────────────┴──────────┴───────────┴─────────┴───────────────┴───────────────┘"
      ]
     },
     "execution_count": 12,
     "metadata": {},
     "output_type": "execute_result"
    }
   ],
   "source": [
    "stops_path = os.path.join(STATIC_GTFS_PATH, 'stops.txt')\n",
    "stops_dtype = {'stop_id': pl.String,\n",
    "               'stop_code': pl.String,\n",
    "               'stop_name': pl.String,\n",
    "               'stop_desc': pl.String,\n",
    "               'stop_lon': pl.Float64,\n",
    "               'stop_lat': pl.Float64,\n",
    "               'zone_id': pl.Categorical,\n",
    "               'stop_url': pl.String,\n",
    "               'location_type': pl.Categorical,\n",
    "               'parent_station': pl.String,\n",
    "               'stop_timezone': pl.Categorical,\n",
    "               'level_id': pl.String,\n",
    "               'wheelchair_boarding': pl.Categorical,\n",
    "               'platform_code': pl.Categorical}\n",
    "stops = pl.scan_csv(stops_path, schema_overrides=stops_dtype).select(list(stops_dtype.keys()))\n",
    "stops = stops.drop(['stop_code', 'stop_desc', 'stop_url', 'location_type',\n",
    "                   'parent_station', 'stop_timezone', 'level_id'])\n",
    "stops.head().collect()"
   ]
  },
  {
   "cell_type": "code",
   "execution_count": 19,
   "metadata": {},
   "outputs": [
    {
     "data": {
      "text/html": [
       "<div><style>\n",
       ".dataframe > thead > tr,\n",
       ".dataframe > tbody > tr {\n",
       "  text-align: right;\n",
       "  white-space: pre-wrap;\n",
       "}\n",
       "</style>\n",
       "<small>shape: (5, 8)</small><table border=\"1\" class=\"dataframe\"><thead><tr><th>trip_id</th><th>route_id</th><th>service_id</th><th>trip_headsign</th><th>trip_short_name</th><th>direction_id</th><th>wheelchair_accessible</th><th>bikes_allowed</th></tr><tr><td>str</td><td>cat</td><td>cat</td><td>str</td><td>str</td><td>str</td><td>cat</td><td>cat</td></tr></thead><tbody><tr><td>&quot;IDFM:RATP:144143-C01254-COU_RA…</td><td>&quot;IDFM:C01254&quot;</td><td>&quot;IDFM:1&quot;</td><td>&quot;Gare d&#x27;Argenteuil&quot;</td><td>null</td><td>&quot;0&quot;</td><td>&quot;1&quot;</td><td>&quot;0&quot;</td></tr><tr><td>&quot;IDFM:FSO:154723-C02085-826-260&quot;</td><td>&quot;IDFM:C02085&quot;</td><td>&quot;IDFM:1&quot;</td><td>&quot;Neuville RER&quot;</td><td>null</td><td>&quot;0&quot;</td><td>&quot;1&quot;</td><td>&quot;0&quot;</td></tr><tr><td>&quot;IDFM:N4_MOBILITES:152581-C0003…</td><td>&quot;IDFM:C00030&quot;</td><td>&quot;IDFM:1&quot;</td><td>&quot;Gare de Roissy&quot;</td><td>null</td><td>&quot;0&quot;</td><td>&quot;2&quot;</td><td>&quot;0&quot;</td></tr><tr><td>&quot;IDFM:Transdev_Nord_Seine_Saint…</td><td>&quot;IDFM:C01587&quot;</td><td>&quot;IDFM:1&quot;</td><td>&quot;Gare de Sevran Beaudottes&quot;</td><td>null</td><td>&quot;0&quot;</td><td>&quot;2&quot;</td><td>&quot;0&quot;</td></tr><tr><td>&quot;IDFM:Transdev_Nord_Seine_Saint…</td><td>&quot;IDFM:C01587&quot;</td><td>&quot;IDFM:1&quot;</td><td>&quot;Gare de Sevran Beaudottes&quot;</td><td>null</td><td>&quot;0&quot;</td><td>&quot;2&quot;</td><td>&quot;0&quot;</td></tr></tbody></table></div>"
      ],
      "text/plain": [
       "shape: (5, 8)\n",
       "┌────────────┬────────────┬────────────┬───────────┬───────────┬───────────┬───────────┬───────────┐\n",
       "│ trip_id    ┆ route_id   ┆ service_id ┆ trip_head ┆ trip_shor ┆ direction ┆ wheelchai ┆ bikes_all │\n",
       "│ ---        ┆ ---        ┆ ---        ┆ sign      ┆ t_name    ┆ _id       ┆ r_accessi ┆ owed      │\n",
       "│ str        ┆ cat        ┆ cat        ┆ ---       ┆ ---       ┆ ---       ┆ ble       ┆ ---       │\n",
       "│            ┆            ┆            ┆ str       ┆ str       ┆ str       ┆ ---       ┆ cat       │\n",
       "│            ┆            ┆            ┆           ┆           ┆           ┆ cat       ┆           │\n",
       "╞════════════╪════════════╪════════════╪═══════════╪═══════════╪═══════════╪═══════════╪═══════════╡\n",
       "│ IDFM:RATP: ┆ IDFM:C0125 ┆ IDFM:1     ┆ Gare d'Ar ┆ null      ┆ 0         ┆ 1         ┆ 0         │\n",
       "│ 144143-C01 ┆ 4          ┆            ┆ genteuil  ┆           ┆           ┆           ┆           │\n",
       "│ 254-COU_RA ┆            ┆            ┆           ┆           ┆           ┆           ┆           │\n",
       "│ …          ┆            ┆            ┆           ┆           ┆           ┆           ┆           │\n",
       "│ IDFM:FSO:1 ┆ IDFM:C0208 ┆ IDFM:1     ┆ Neuville  ┆ null      ┆ 0         ┆ 1         ┆ 0         │\n",
       "│ 54723-C020 ┆ 5          ┆            ┆ RER       ┆           ┆           ┆           ┆           │\n",
       "│ 85-826-260 ┆            ┆            ┆           ┆           ┆           ┆           ┆           │\n",
       "│ IDFM:N4_MO ┆ IDFM:C0003 ┆ IDFM:1     ┆ Gare de   ┆ null      ┆ 0         ┆ 2         ┆ 0         │\n",
       "│ BILITES:15 ┆ 0          ┆            ┆ Roissy    ┆           ┆           ┆           ┆           │\n",
       "│ 2581-C0003 ┆            ┆            ┆           ┆           ┆           ┆           ┆           │\n",
       "│ …          ┆            ┆            ┆           ┆           ┆           ┆           ┆           │\n",
       "│ IDFM:Trans ┆ IDFM:C0158 ┆ IDFM:1     ┆ Gare de   ┆ null      ┆ 0         ┆ 2         ┆ 0         │\n",
       "│ dev_Nord_S ┆ 7          ┆            ┆ Sevran    ┆           ┆           ┆           ┆           │\n",
       "│ eine_Saint ┆            ┆            ┆ Beaudotte ┆           ┆           ┆           ┆           │\n",
       "│ …          ┆            ┆            ┆ s         ┆           ┆           ┆           ┆           │\n",
       "│ IDFM:Trans ┆ IDFM:C0158 ┆ IDFM:1     ┆ Gare de   ┆ null      ┆ 0         ┆ 2         ┆ 0         │\n",
       "│ dev_Nord_S ┆ 7          ┆            ┆ Sevran    ┆           ┆           ┆           ┆           │\n",
       "│ eine_Saint ┆            ┆            ┆ Beaudotte ┆           ┆           ┆           ┆           │\n",
       "│ …          ┆            ┆            ┆ s         ┆           ┆           ┆           ┆           │\n",
       "└────────────┴────────────┴────────────┴───────────┴───────────┴───────────┴───────────┴───────────┘"
      ]
     },
     "execution_count": 19,
     "metadata": {},
     "output_type": "execute_result"
    }
   ],
   "source": [
    "trips_path = os.path.join(STATIC_GTFS_PATH, 'trips.txt')\n",
    "trips_dtype = {'trip_id': pl.String,\n",
    "               'route_id': pl.Categorical,\n",
    "               'service_id': pl.Categorical,\n",
    "               'trip_headsign': pl.String,\n",
    "               'trip_short_name': pl.String,\n",
    "               'direction_id': pl.String,\n",
    "               'wheelchair_accessible': pl.Categorical,\n",
    "               'bikes_allowed': pl.Categorical}\n",
    "trips = pl.scan_csv(trips_path, schema_overrides=trips_dtype).select(list(trips_dtype.keys()))\n",
    "trips.head().collect()"
   ]
  },
  {
   "cell_type": "code",
   "execution_count": 20,
   "metadata": {},
   "outputs": [
    {
     "data": {
      "text/html": [
       "<div><style>\n",
       ".dataframe > thead > tr,\n",
       ".dataframe > tbody > tr {\n",
       "  text-align: right;\n",
       "  white-space: pre-wrap;\n",
       "}\n",
       "</style>\n",
       "<small>shape: (5, 5)</small><table border=\"1\" class=\"dataframe\"><thead><tr><th>trip_id</th><th>arrival_time</th><th>departure_time</th><th>stop_id</th><th>stop_sequence</th></tr><tr><td>str</td><td>str</td><td>str</td><td>str</td><td>i16</td></tr></thead><tbody><tr><td>&quot;IDFM:RATP:144143-C01254-COU_RA…</td><td>&quot;11:10:00&quot;</td><td>&quot;11:10:00&quot;</td><td>&quot;IDFM:24930&quot;</td><td>0</td></tr><tr><td>&quot;IDFM:RATP:144143-C01254-COU_RA…</td><td>&quot;11:11:00&quot;</td><td>&quot;11:11:00&quot;</td><td>&quot;IDFM:23974&quot;</td><td>1</td></tr><tr><td>&quot;IDFM:RATP:144143-C01254-COU_RA…</td><td>&quot;11:13:00&quot;</td><td>&quot;11:13:00&quot;</td><td>&quot;IDFM:41489&quot;</td><td>2</td></tr><tr><td>&quot;IDFM:RATP:144143-C01254-COU_RA…</td><td>&quot;11:14:00&quot;</td><td>&quot;11:14:00&quot;</td><td>&quot;IDFM:23815&quot;</td><td>3</td></tr><tr><td>&quot;IDFM:RATP:144143-C01254-COU_RA…</td><td>&quot;11:17:00&quot;</td><td>&quot;11:17:00&quot;</td><td>&quot;IDFM:23972&quot;</td><td>4</td></tr></tbody></table></div>"
      ],
      "text/plain": [
       "shape: (5, 5)\n",
       "┌─────────────────────────────────┬──────────────┬────────────────┬────────────┬───────────────┐\n",
       "│ trip_id                         ┆ arrival_time ┆ departure_time ┆ stop_id    ┆ stop_sequence │\n",
       "│ ---                             ┆ ---          ┆ ---            ┆ ---        ┆ ---           │\n",
       "│ str                             ┆ str          ┆ str            ┆ str        ┆ i16           │\n",
       "╞═════════════════════════════════╪══════════════╪════════════════╪════════════╪═══════════════╡\n",
       "│ IDFM:RATP:144143-C01254-COU_RA… ┆ 11:10:00     ┆ 11:10:00       ┆ IDFM:24930 ┆ 0             │\n",
       "│ IDFM:RATP:144143-C01254-COU_RA… ┆ 11:11:00     ┆ 11:11:00       ┆ IDFM:23974 ┆ 1             │\n",
       "│ IDFM:RATP:144143-C01254-COU_RA… ┆ 11:13:00     ┆ 11:13:00       ┆ IDFM:41489 ┆ 2             │\n",
       "│ IDFM:RATP:144143-C01254-COU_RA… ┆ 11:14:00     ┆ 11:14:00       ┆ IDFM:23815 ┆ 3             │\n",
       "│ IDFM:RATP:144143-C01254-COU_RA… ┆ 11:17:00     ┆ 11:17:00       ┆ IDFM:23972 ┆ 4             │\n",
       "└─────────────────────────────────┴──────────────┴────────────────┴────────────┴───────────────┘"
      ]
     },
     "execution_count": 20,
     "metadata": {},
     "output_type": "execute_result"
    }
   ],
   "source": [
    "stop_times_path = os.path.join(STATIC_GTFS_PATH, 'stop_times.txt')\n",
    "stop_times_dtype = {'trip_id': pl.String,\n",
    "                    'arrival_time': pl.String,\n",
    "                    'departure_time': pl.String,\n",
    "                    'stop_id': pl.String,\n",
    "                    'stop_sequence': pl.Int16\n",
    "                    }\n",
    "stop_times = pl.scan_csv(stop_times_path, schema_overrides=stop_times_dtype).select(list(stop_times_dtype.keys()))\n",
    "stop_times.head().collect()\n",
    "\n",
    "# TODO: Parse times"
   ]
  },
  {
   "cell_type": "code",
   "execution_count": 26,
   "metadata": {},
   "outputs": [
    {
     "data": {
      "text/html": [
       "<div><style>\n",
       ".dataframe > thead > tr,\n",
       ".dataframe > tbody > tr {\n",
       "  text-align: right;\n",
       "  white-space: pre-wrap;\n",
       "}\n",
       "</style>\n",
       "<small>shape: (5, 8)</small><table border=\"1\" class=\"dataframe\"><thead><tr><th>route_id</th><th>agency_id</th><th>route_short_name</th><th>route_long_name</th><th>route_type</th><th>route_color</th><th>route_text_color</th><th>route_type2</th></tr><tr><td>cat</td><td>cat</td><td>str</td><td>str</td><td>cat</td><td>str</td><td>str</td><td>cat</td></tr></thead><tbody><tr><td>&quot;IDFM:C01624&quot;</td><td>&quot;IDFM:1080&quot;</td><td>&quot;409&quot;</td><td>&quot;409&quot;</td><td>&quot;3&quot;</td><td>&quot;00812C&quot;</td><td>&quot;FFFFFF&quot;</td><td>&quot;BUS&quot;</td></tr><tr><td>&quot;IDFM:C02313&quot;</td><td>&quot;IDFM:1081&quot;</td><td>&quot;01&quot;</td><td>&quot;01&quot;</td><td>&quot;3&quot;</td><td>&quot;CFE2F3&quot;</td><td>&quot;FFFFFF&quot;</td><td>&quot;BUS&quot;</td></tr><tr><td>&quot;IDFM:C00029&quot;</td><td>&quot;IDFM:81&quot;</td><td>&quot;502&quot;</td><td>&quot;502&quot;</td><td>&quot;3&quot;</td><td>&quot;FBE324&quot;</td><td>&quot;000000&quot;</td><td>&quot;BUS&quot;</td></tr><tr><td>&quot;IDFM:C00632&quot;</td><td>&quot;IDFM:64&quot;</td><td>&quot;2234&quot;</td><td>&quot;2234&quot;</td><td>&quot;3&quot;</td><td>&quot;640082&quot;</td><td>&quot;FFFFFF&quot;</td><td>&quot;BUS&quot;</td></tr><tr><td>&quot;IDFM:C00164&quot;</td><td>&quot;IDFM:1081&quot;</td><td>&quot;3&quot;</td><td>&quot;3&quot;</td><td>&quot;3&quot;</td><td>&quot;FAE91A&quot;</td><td>&quot;000000&quot;</td><td>&quot;BUS&quot;</td></tr></tbody></table></div>"
      ],
      "text/plain": [
       "shape: (5, 8)\n",
       "┌────────────┬───────────┬────────────┬────────────┬───────────┬───────────┬───────────┬───────────┐\n",
       "│ route_id   ┆ agency_id ┆ route_shor ┆ route_long ┆ route_typ ┆ route_col ┆ route_tex ┆ route_typ │\n",
       "│ ---        ┆ ---       ┆ t_name     ┆ _name      ┆ e         ┆ or        ┆ t_color   ┆ e2        │\n",
       "│ cat        ┆ cat       ┆ ---        ┆ ---        ┆ ---       ┆ ---       ┆ ---       ┆ ---       │\n",
       "│            ┆           ┆ str        ┆ str        ┆ cat       ┆ str       ┆ str       ┆ cat       │\n",
       "╞════════════╪═══════════╪════════════╪════════════╪═══════════╪═══════════╪═══════════╪═══════════╡\n",
       "│ IDFM:C0162 ┆ IDFM:1080 ┆ 409        ┆ 409        ┆ 3         ┆ 00812C    ┆ FFFFFF    ┆ BUS       │\n",
       "│ 4          ┆           ┆            ┆            ┆           ┆           ┆           ┆           │\n",
       "│ IDFM:C0231 ┆ IDFM:1081 ┆ 01         ┆ 01         ┆ 3         ┆ CFE2F3    ┆ FFFFFF    ┆ BUS       │\n",
       "│ 3          ┆           ┆            ┆            ┆           ┆           ┆           ┆           │\n",
       "│ IDFM:C0002 ┆ IDFM:81   ┆ 502        ┆ 502        ┆ 3         ┆ FBE324    ┆ 000000    ┆ BUS       │\n",
       "│ 9          ┆           ┆            ┆            ┆           ┆           ┆           ┆           │\n",
       "│ IDFM:C0063 ┆ IDFM:64   ┆ 2234       ┆ 2234       ┆ 3         ┆ 640082    ┆ FFFFFF    ┆ BUS       │\n",
       "│ 2          ┆           ┆            ┆            ┆           ┆           ┆           ┆           │\n",
       "│ IDFM:C0016 ┆ IDFM:1081 ┆ 3          ┆ 3          ┆ 3         ┆ FAE91A    ┆ 000000    ┆ BUS       │\n",
       "│ 4          ┆           ┆            ┆            ┆           ┆           ┆           ┆           │\n",
       "└────────────┴───────────┴────────────┴────────────┴───────────┴───────────┴───────────┴───────────┘"
      ]
     },
     "execution_count": 26,
     "metadata": {},
     "output_type": "execute_result"
    }
   ],
   "source": [
    "routes_path = os.path.join(STATIC_GTFS_PATH, 'routes.txt')\n",
    "routes_dtype = {'route_id': pl.Categorical,\n",
    "                'agency_id': pl.Categorical,\n",
    "                'route_short_name': pl.String,\n",
    "                'route_long_name': pl.String,\n",
    "                'route_type': pl.Categorical,\n",
    "                'route_color': pl.String,\n",
    "                'route_text_color': pl.String}\n",
    "routes = pl.scan_csv(routes_path, schema_overrides=routes_dtype).select(list(routes_dtype.keys()))\n",
    "\n",
    "routes = routes.with_columns(\n",
    "    pl\n",
    "    .when(pl.col('route_type') == '0').then(pl.lit('TRAM'))\n",
    "    .when(pl.col('route_type') == '1').then(pl.lit('METRO'))\n",
    "    .when(pl.col('route_type') == '2').then(pl.lit('TRAIN'))\n",
    "    .when(pl.col('route_type') == '3').then(pl.lit('BUS'))\n",
    "\n",
    "    .alias('route_type2')\n",
    "    .cast(pl.Categorical)\n",
    ")\n",
    "\n",
    "routes.head().collect()"
   ]
  },
  {
   "cell_type": "code",
   "execution_count": 31,
   "metadata": {},
   "outputs": [
    {
     "data": {
      "text/html": [
       "<div><style>\n",
       ".dataframe > thead > tr,\n",
       ".dataframe > tbody > tr {\n",
       "  text-align: right;\n",
       "  white-space: pre-wrap;\n",
       "}\n",
       "</style>\n",
       "<small>shape: (11_533_498, 27)</small><table border=\"1\" class=\"dataframe\"><thead><tr><th>trip_id</th><th>arrival_time</th><th>departure_time</th><th>stop_id</th><th>stop_sequence</th><th>route_id</th><th>service_id</th><th>trip_headsign</th><th>trip_short_name</th><th>direction_id</th><th>wheelchair_accessible</th><th>bikes_allowed</th><th>monday</th><th>tuesday</th><th>wednesday</th><th>thursday</th><th>friday</th><th>saturday</th><th>sunday</th><th>start_date</th><th>end_date</th><th>stop_name</th><th>stop_lon</th><th>stop_lat</th><th>zone_id</th><th>wheelchair_boarding</th><th>platform_code</th></tr><tr><td>str</td><td>str</td><td>str</td><td>str</td><td>i16</td><td>cat</td><td>cat</td><td>str</td><td>str</td><td>str</td><td>cat</td><td>cat</td><td>bool</td><td>bool</td><td>bool</td><td>bool</td><td>bool</td><td>bool</td><td>bool</td><td>date</td><td>date</td><td>str</td><td>f64</td><td>f64</td><td>cat</td><td>cat</td><td>cat</td></tr></thead><tbody><tr><td>&quot;IDFM:RATP:144143-C01254-COU_RA…</td><td>&quot;11:10:00&quot;</td><td>&quot;11:10:00&quot;</td><td>&quot;IDFM:24930&quot;</td><td>0</td><td>&quot;IDFM:C01254&quot;</td><td>&quot;IDFM:1&quot;</td><td>&quot;Gare d&#x27;Argenteuil&quot;</td><td>null</td><td>&quot;0&quot;</td><td>&quot;1&quot;</td><td>&quot;0&quot;</td><td>true</td><td>true</td><td>false</td><td>false</td><td>false</td><td>false</td><td>false</td><td>2024-09-02</td><td>2024-09-03</td><td>&quot;Gare de Sartrouville - RER&quot;</td><td>2.157601</td><td>48.93817</td><td>&quot;4&quot;</td><td>&quot;1&quot;</td><td>null</td></tr><tr><td>&quot;IDFM:RATP:144143-C01254-COU_RA…</td><td>&quot;11:11:00&quot;</td><td>&quot;11:11:00&quot;</td><td>&quot;IDFM:23974&quot;</td><td>1</td><td>&quot;IDFM:C01254&quot;</td><td>&quot;IDFM:1&quot;</td><td>&quot;Gare d&#x27;Argenteuil&quot;</td><td>null</td><td>&quot;0&quot;</td><td>&quot;1&quot;</td><td>&quot;0&quot;</td><td>true</td><td>true</td><td>false</td><td>false</td><td>false</td><td>false</td><td>false</td><td>2024-09-02</td><td>2024-09-03</td><td>&quot;Poste&quot;</td><td>2.160429</td><td>48.940609</td><td>&quot;4&quot;</td><td>&quot;1&quot;</td><td>null</td></tr><tr><td>&quot;IDFM:RATP:144143-C01254-COU_RA…</td><td>&quot;11:13:00&quot;</td><td>&quot;11:13:00&quot;</td><td>&quot;IDFM:41489&quot;</td><td>2</td><td>&quot;IDFM:C01254&quot;</td><td>&quot;IDFM:1&quot;</td><td>&quot;Gare d&#x27;Argenteuil&quot;</td><td>null</td><td>&quot;0&quot;</td><td>&quot;1&quot;</td><td>&quot;0&quot;</td><td>true</td><td>true</td><td>false</td><td>false</td><td>false</td><td>false</td><td>false</td><td>2024-09-02</td><td>2024-09-03</td><td>&quot;Stalingrad&quot;</td><td>2.164896</td><td>48.941234</td><td>&quot;4&quot;</td><td>&quot;1&quot;</td><td>null</td></tr><tr><td>&quot;IDFM:RATP:144143-C01254-COU_RA…</td><td>&quot;11:14:00&quot;</td><td>&quot;11:14:00&quot;</td><td>&quot;IDFM:23815&quot;</td><td>3</td><td>&quot;IDFM:C01254&quot;</td><td>&quot;IDFM:1&quot;</td><td>&quot;Gare d&#x27;Argenteuil&quot;</td><td>null</td><td>&quot;0&quot;</td><td>&quot;1&quot;</td><td>&quot;0&quot;</td><td>true</td><td>true</td><td>false</td><td>false</td><td>false</td><td>false</td><td>false</td><td>2024-09-02</td><td>2024-09-03</td><td>&quot;Jean Mermoz&quot;</td><td>2.166549</td><td>48.940355</td><td>&quot;4&quot;</td><td>&quot;1&quot;</td><td>null</td></tr><tr><td>&quot;IDFM:RATP:144143-C01254-COU_RA…</td><td>&quot;11:17:00&quot;</td><td>&quot;11:17:00&quot;</td><td>&quot;IDFM:23972&quot;</td><td>4</td><td>&quot;IDFM:C01254&quot;</td><td>&quot;IDFM:1&quot;</td><td>&quot;Gare d&#x27;Argenteuil&quot;</td><td>null</td><td>&quot;0&quot;</td><td>&quot;1&quot;</td><td>&quot;0&quot;</td><td>true</td><td>true</td><td>false</td><td>false</td><td>false</td><td>false</td><td>false</td><td>2024-09-02</td><td>2024-09-03</td><td>&quot;Voltaire&quot;</td><td>2.169674</td><td>48.938731</td><td>&quot;4&quot;</td><td>&quot;1&quot;</td><td>null</td></tr><tr><td>&hellip;</td><td>&hellip;</td><td>&hellip;</td><td>&hellip;</td><td>&hellip;</td><td>&hellip;</td><td>&hellip;</td><td>&hellip;</td><td>&hellip;</td><td>&hellip;</td><td>&hellip;</td><td>&hellip;</td><td>&hellip;</td><td>&hellip;</td><td>&hellip;</td><td>&hellip;</td><td>&hellip;</td><td>&hellip;</td><td>&hellip;</td><td>&hellip;</td><td>&hellip;</td><td>&hellip;</td><td>&hellip;</td><td>&hellip;</td><td>&hellip;</td><td>&hellip;</td><td>&hellip;</td></tr><tr><td>&quot;IDFM:TN:SNCF:be6ef317-6a72-45e…</td><td>&quot;06:26:00&quot;</td><td>&quot;06:26:00&quot;</td><td>&quot;IDFM:monomodalStopPlace:462394&quot;</td><td>16</td><td>&quot;IDFM:C02372&quot;</td><td>&quot;IDFM:TN:8926001&quot;</td><td>&quot;Gare du Nord&quot;</td><td>&quot;847900&quot;</td><td>&quot;1&quot;</td><td>&quot;0&quot;</td><td>&quot;0&quot;</td><td>false</td><td>true</td><td>false</td><td>false</td><td>false</td><td>false</td><td>false</td><td>2024-08-06</td><td>2024-08-06</td><td>&quot;Gare du Nord&quot;</td><td>2.356693</td><td>48.882307</td><td>&quot;1&quot;</td><td>&quot;1&quot;</td><td>null</td></tr><tr><td>&quot;IDFM:TN:SNCF:6e655c39-ec06-419…</td><td>&quot;05:20:00&quot;</td><td>&quot;05:20:00&quot;</td><td>&quot;IDFM:monomodalStopPlace:411440&quot;</td><td>15</td><td>&quot;IDFM:C02372&quot;</td><td>&quot;IDFM:TN:8926001&quot;</td><td>&quot;Gare du Nord&quot;</td><td>&quot;848502&quot;</td><td>&quot;1&quot;</td><td>&quot;0&quot;</td><td>&quot;0&quot;</td><td>false</td><td>true</td><td>false</td><td>false</td><td>false</td><td>false</td><td>false</td><td>2024-08-06</td><td>2024-08-06</td><td>&quot;Creil&quot;</td><td>2.468929</td><td>49.264186</td><td>null</td><td>&quot;0&quot;</td><td>null</td></tr><tr><td>&quot;IDFM:TN:SNCF:6e655c39-ec06-419…</td><td>&quot;05:26:00&quot;</td><td>&quot;05:27:30&quot;</td><td>&quot;IDFM:monomodalStopPlace:411428&quot;</td><td>16</td><td>&quot;IDFM:C02372&quot;</td><td>&quot;IDFM:TN:8926001&quot;</td><td>&quot;Gare du Nord&quot;</td><td>&quot;848502&quot;</td><td>&quot;1&quot;</td><td>&quot;0&quot;</td><td>&quot;0&quot;</td><td>false</td><td>true</td><td>false</td><td>false</td><td>false</td><td>false</td><td>false</td><td>2024-08-06</td><td>2024-08-06</td><td>&quot;Chantilly - Gouvieux&quot;</td><td>2.459516</td><td>49.18703</td><td>null</td><td>&quot;0&quot;</td><td>null</td></tr><tr><td>&quot;IDFM:TN:SNCF:6e655c39-ec06-419…</td><td>&quot;05:31:30&quot;</td><td>&quot;05:33:00&quot;</td><td>&quot;IDFM:472016&quot;</td><td>17</td><td>&quot;IDFM:C02372&quot;</td><td>&quot;IDFM:TN:8926001&quot;</td><td>&quot;Gare du Nord&quot;</td><td>&quot;848502&quot;</td><td>&quot;1&quot;</td><td>&quot;0&quot;</td><td>&quot;0&quot;</td><td>false</td><td>true</td><td>false</td><td>false</td><td>false</td><td>false</td><td>false</td><td>2024-08-06</td><td>2024-08-06</td><td>&quot;Orry-la-Ville - Coye&quot;</td><td>2.49001</td><td>49.138694</td><td>null</td><td>&quot;0&quot;</td><td>null</td></tr><tr><td>&quot;IDFM:TN:SNCF:6e655c39-ec06-419…</td><td>&quot;05:53:00&quot;</td><td>&quot;05:53:00&quot;</td><td>&quot;IDFM:monomodalStopPlace:462394&quot;</td><td>22</td><td>&quot;IDFM:C02372&quot;</td><td>&quot;IDFM:TN:8926001&quot;</td><td>&quot;Gare du Nord&quot;</td><td>&quot;848502&quot;</td><td>&quot;1&quot;</td><td>&quot;0&quot;</td><td>&quot;0&quot;</td><td>false</td><td>true</td><td>false</td><td>false</td><td>false</td><td>false</td><td>false</td><td>2024-08-06</td><td>2024-08-06</td><td>&quot;Gare du Nord&quot;</td><td>2.356693</td><td>48.882307</td><td>&quot;1&quot;</td><td>&quot;1&quot;</td><td>null</td></tr></tbody></table></div>"
      ],
      "text/plain": [
       "shape: (11_533_498, 27)\n",
       "┌────────────┬───────────┬───────────┬───────────┬───┬───────────┬─────────┬───────────┬───────────┐\n",
       "│ trip_id    ┆ arrival_t ┆ departure ┆ stop_id   ┆ … ┆ stop_lat  ┆ zone_id ┆ wheelchai ┆ platform_ │\n",
       "│ ---        ┆ ime       ┆ _time     ┆ ---       ┆   ┆ ---       ┆ ---     ┆ r_boardin ┆ code      │\n",
       "│ str        ┆ ---       ┆ ---       ┆ str       ┆   ┆ f64       ┆ cat     ┆ g         ┆ ---       │\n",
       "│            ┆ str       ┆ str       ┆           ┆   ┆           ┆         ┆ ---       ┆ cat       │\n",
       "│            ┆           ┆           ┆           ┆   ┆           ┆         ┆ cat       ┆           │\n",
       "╞════════════╪═══════════╪═══════════╪═══════════╪═══╪═══════════╪═════════╪═══════════╪═══════════╡\n",
       "│ IDFM:RATP: ┆ 11:10:00  ┆ 11:10:00  ┆ IDFM:2493 ┆ … ┆ 48.93817  ┆ 4       ┆ 1         ┆ null      │\n",
       "│ 144143-C01 ┆           ┆           ┆ 0         ┆   ┆           ┆         ┆           ┆           │\n",
       "│ 254-COU_RA ┆           ┆           ┆           ┆   ┆           ┆         ┆           ┆           │\n",
       "│ …          ┆           ┆           ┆           ┆   ┆           ┆         ┆           ┆           │\n",
       "│ IDFM:RATP: ┆ 11:11:00  ┆ 11:11:00  ┆ IDFM:2397 ┆ … ┆ 48.940609 ┆ 4       ┆ 1         ┆ null      │\n",
       "│ 144143-C01 ┆           ┆           ┆ 4         ┆   ┆           ┆         ┆           ┆           │\n",
       "│ 254-COU_RA ┆           ┆           ┆           ┆   ┆           ┆         ┆           ┆           │\n",
       "│ …          ┆           ┆           ┆           ┆   ┆           ┆         ┆           ┆           │\n",
       "│ IDFM:RATP: ┆ 11:13:00  ┆ 11:13:00  ┆ IDFM:4148 ┆ … ┆ 48.941234 ┆ 4       ┆ 1         ┆ null      │\n",
       "│ 144143-C01 ┆           ┆           ┆ 9         ┆   ┆           ┆         ┆           ┆           │\n",
       "│ 254-COU_RA ┆           ┆           ┆           ┆   ┆           ┆         ┆           ┆           │\n",
       "│ …          ┆           ┆           ┆           ┆   ┆           ┆         ┆           ┆           │\n",
       "│ IDFM:RATP: ┆ 11:14:00  ┆ 11:14:00  ┆ IDFM:2381 ┆ … ┆ 48.940355 ┆ 4       ┆ 1         ┆ null      │\n",
       "│ 144143-C01 ┆           ┆           ┆ 5         ┆   ┆           ┆         ┆           ┆           │\n",
       "│ 254-COU_RA ┆           ┆           ┆           ┆   ┆           ┆         ┆           ┆           │\n",
       "│ …          ┆           ┆           ┆           ┆   ┆           ┆         ┆           ┆           │\n",
       "│ IDFM:RATP: ┆ 11:17:00  ┆ 11:17:00  ┆ IDFM:2397 ┆ … ┆ 48.938731 ┆ 4       ┆ 1         ┆ null      │\n",
       "│ 144143-C01 ┆           ┆           ┆ 2         ┆   ┆           ┆         ┆           ┆           │\n",
       "│ 254-COU_RA ┆           ┆           ┆           ┆   ┆           ┆         ┆           ┆           │\n",
       "│ …          ┆           ┆           ┆           ┆   ┆           ┆         ┆           ┆           │\n",
       "│ …          ┆ …         ┆ …         ┆ …         ┆ … ┆ …         ┆ …       ┆ …         ┆ …         │\n",
       "│ IDFM:TN:SN ┆ 06:26:00  ┆ 06:26:00  ┆ IDFM:mono ┆ … ┆ 48.882307 ┆ 1       ┆ 1         ┆ null      │\n",
       "│ CF:be6ef31 ┆           ┆           ┆ modalStop ┆   ┆           ┆         ┆           ┆           │\n",
       "│ 7-6a72-45e ┆           ┆           ┆ Place:462 ┆   ┆           ┆         ┆           ┆           │\n",
       "│ …          ┆           ┆           ┆ 394       ┆   ┆           ┆         ┆           ┆           │\n",
       "│ IDFM:TN:SN ┆ 05:20:00  ┆ 05:20:00  ┆ IDFM:mono ┆ … ┆ 49.264186 ┆ null    ┆ 0         ┆ null      │\n",
       "│ CF:6e655c3 ┆           ┆           ┆ modalStop ┆   ┆           ┆         ┆           ┆           │\n",
       "│ 9-ec06-419 ┆           ┆           ┆ Place:411 ┆   ┆           ┆         ┆           ┆           │\n",
       "│ …          ┆           ┆           ┆ 440       ┆   ┆           ┆         ┆           ┆           │\n",
       "│ IDFM:TN:SN ┆ 05:26:00  ┆ 05:27:30  ┆ IDFM:mono ┆ … ┆ 49.18703  ┆ null    ┆ 0         ┆ null      │\n",
       "│ CF:6e655c3 ┆           ┆           ┆ modalStop ┆   ┆           ┆         ┆           ┆           │\n",
       "│ 9-ec06-419 ┆           ┆           ┆ Place:411 ┆   ┆           ┆         ┆           ┆           │\n",
       "│ …          ┆           ┆           ┆ 428       ┆   ┆           ┆         ┆           ┆           │\n",
       "│ IDFM:TN:SN ┆ 05:31:30  ┆ 05:33:00  ┆ IDFM:4720 ┆ … ┆ 49.138694 ┆ null    ┆ 0         ┆ null      │\n",
       "│ CF:6e655c3 ┆           ┆           ┆ 16        ┆   ┆           ┆         ┆           ┆           │\n",
       "│ 9-ec06-419 ┆           ┆           ┆           ┆   ┆           ┆         ┆           ┆           │\n",
       "│ …          ┆           ┆           ┆           ┆   ┆           ┆         ┆           ┆           │\n",
       "│ IDFM:TN:SN ┆ 05:53:00  ┆ 05:53:00  ┆ IDFM:mono ┆ … ┆ 48.882307 ┆ 1       ┆ 1         ┆ null      │\n",
       "│ CF:6e655c3 ┆           ┆           ┆ modalStop ┆   ┆           ┆         ┆           ┆           │\n",
       "│ 9-ec06-419 ┆           ┆           ┆ Place:462 ┆   ┆           ┆         ┆           ┆           │\n",
       "│ …          ┆           ┆           ┆ 394       ┆   ┆           ┆         ┆           ┆           │\n",
       "└────────────┴───────────┴───────────┴───────────┴───┴───────────┴─────────┴───────────┴───────────┘"
      ]
     },
     "execution_count": 31,
     "metadata": {},
     "output_type": "execute_result"
    }
   ],
   "source": [
    "timetable = (\n",
    "    stop_times\n",
    "    .join(trips, on='trip_id')\n",
    "    .join(calendar, on='service_id')\n",
    "    .join(stops, on='stop_id')\n",
    ")\n",
    "timetable.collect()"
   ]
  },
  {
   "cell_type": "markdown",
   "metadata": {},
   "source": [
    "# Export all lines time table"
   ]
  },
  {
   "cell_type": "code",
   "execution_count": 16,
   "metadata": {},
   "outputs": [],
   "source": [
    "stop_times.to_parquet(os.path.join(save_directory, f'all.parquet'))"
   ]
  }
 ],
 "metadata": {
  "kernelspec": {
   "display_name": "Python 3",
   "language": "python",
   "name": "python3"
  },
  "language_info": {
   "codemirror_mode": {
    "name": "ipython",
    "version": 3
   },
   "file_extension": ".py",
   "mimetype": "text/x-python",
   "name": "python",
   "nbconvert_exporter": "python",
   "pygments_lexer": "ipython3",
   "version": "3.12.4"
  }
 },
 "nbformat": 4,
 "nbformat_minor": 2
}

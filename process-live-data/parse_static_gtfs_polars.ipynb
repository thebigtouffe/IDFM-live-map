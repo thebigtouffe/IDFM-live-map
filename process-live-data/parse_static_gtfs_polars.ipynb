{
 "cells": [
  {
   "cell_type": "code",
   "execution_count": 1,
   "metadata": {},
   "outputs": [],
   "source": [
    "import polars as pl\n",
    "import os\n",
    "import datetime"
   ]
  },
  {
   "cell_type": "markdown",
   "metadata": {},
   "source": [
    "# Download and extract GTFS data from IDFM"
   ]
  },
  {
   "cell_type": "code",
   "execution_count": 2,
   "metadata": {
    "vscode": {
     "languageId": "shellscript"
    }
   },
   "outputs": [],
   "source": [
    "# GTFS data (used for timetable)\n",
    "STATIC_GTFS_URL=\"https://eu.ftp.opendatasoft.com/stif/GTFS/IDFM-gtfs.zip\"\n",
    "STATIC_GTFS_FILE_PATH=\"raw_data/gtfs.zip\"\n",
    "STATIC_GTFS_PATH=\"raw_data/gtfs\""
   ]
  },
  {
   "cell_type": "code",
   "execution_count": 3,
   "metadata": {
    "vscode": {
     "languageId": "shellscript"
    }
   },
   "outputs": [],
   "source": [
    "#!mkdir -p $STATIC_GTFS_PATH\n",
    "#!wget $STATIC_GTFS_URL -O $STATIC_GTFS_FILE_PATH\n",
    "#!unzip -o $STATIC_GTFS_FILE_PATH -d $STATIC_GTFS_PATH"
   ]
  },
  {
   "cell_type": "markdown",
   "metadata": {},
   "source": [
    "# Loading and parsing GTFS data"
   ]
  },
  {
   "cell_type": "code",
   "execution_count": 4,
   "metadata": {},
   "outputs": [
    {
     "data": {
      "text/html": [
       "<div><style>\n",
       ".dataframe > thead > tr,\n",
       ".dataframe > tbody > tr {\n",
       "  text-align: right;\n",
       "  white-space: pre-wrap;\n",
       "}\n",
       "</style>\n",
       "<small>shape: (5, 10)</small><table border=\"1\" class=\"dataframe\"><thead><tr><th>service_id</th><th>monday</th><th>tuesday</th><th>wednesday</th><th>thursday</th><th>friday</th><th>saturday</th><th>sunday</th><th>start_date</th><th>end_date</th></tr><tr><td>cat</td><td>bool</td><td>bool</td><td>bool</td><td>bool</td><td>bool</td><td>bool</td><td>bool</td><td>date</td><td>date</td></tr></thead><tbody><tr><td>&quot;IDFM:1&quot;</td><td>true</td><td>true</td><td>true</td><td>true</td><td>false</td><td>false</td><td>false</td><td>2024-09-02</td><td>2024-09-05</td></tr><tr><td>&quot;IDFM:10&quot;</td><td>true</td><td>true</td><td>false</td><td>true</td><td>false</td><td>false</td><td>false</td><td>2024-09-02</td><td>2024-09-05</td></tr><tr><td>&quot;IDFM:100&quot;</td><td>false</td><td>false</td><td>false</td><td>false</td><td>false</td><td>true</td><td>false</td><td>2024-08-10</td><td>2024-08-31</td></tr><tr><td>&quot;IDFM:105&quot;</td><td>false</td><td>false</td><td>true</td><td>false</td><td>false</td><td>false</td><td>false</td><td>2024-09-04</td><td>2024-09-04</td></tr><tr><td>&quot;IDFM:1000&quot;</td><td>true</td><td>true</td><td>true</td><td>true</td><td>true</td><td>true</td><td>true</td><td>2024-08-07</td><td>2024-09-05</td></tr></tbody></table></div>"
      ],
      "text/plain": [
       "shape: (5, 10)\n",
       "┌────────────┬────────┬─────────┬───────────┬───┬──────────┬────────┬────────────┬────────────┐\n",
       "│ service_id ┆ monday ┆ tuesday ┆ wednesday ┆ … ┆ saturday ┆ sunday ┆ start_date ┆ end_date   │\n",
       "│ ---        ┆ ---    ┆ ---     ┆ ---       ┆   ┆ ---      ┆ ---    ┆ ---        ┆ ---        │\n",
       "│ cat        ┆ bool   ┆ bool    ┆ bool      ┆   ┆ bool     ┆ bool   ┆ date       ┆ date       │\n",
       "╞════════════╪════════╪═════════╪═══════════╪═══╪══════════╪════════╪════════════╪════════════╡\n",
       "│ IDFM:1     ┆ true   ┆ true    ┆ true      ┆ … ┆ false    ┆ false  ┆ 2024-09-02 ┆ 2024-09-05 │\n",
       "│ IDFM:10    ┆ true   ┆ true    ┆ false     ┆ … ┆ false    ┆ false  ┆ 2024-09-02 ┆ 2024-09-05 │\n",
       "│ IDFM:100   ┆ false  ┆ false   ┆ false     ┆ … ┆ true     ┆ false  ┆ 2024-08-10 ┆ 2024-08-31 │\n",
       "│ IDFM:105   ┆ false  ┆ false   ┆ true      ┆ … ┆ false    ┆ false  ┆ 2024-09-04 ┆ 2024-09-04 │\n",
       "│ IDFM:1000  ┆ true   ┆ true    ┆ true      ┆ … ┆ true     ┆ true   ┆ 2024-08-07 ┆ 2024-09-05 │\n",
       "└────────────┴────────┴─────────┴───────────┴───┴──────────┴────────┴────────────┴────────────┘"
      ]
     },
     "execution_count": 4,
     "metadata": {},
     "output_type": "execute_result"
    }
   ],
   "source": [
    "calendar_path = os.path.join(STATIC_GTFS_PATH, 'calendar.txt')\n",
    "calendar_dtype = {'service_id': pl.Categorical,\n",
    "                  'monday': pl.Int8,\n",
    "                  'tuesday': pl.Int8,\n",
    "                  'wednesday': pl.Int8,\n",
    "                  'thursday': pl.Int8,\n",
    "                  'friday': pl.Int8,\n",
    "                  'saturday': pl.Int8,\n",
    "                  'sunday': pl.Int8,\n",
    "                  'start_date': pl.String,\n",
    "                  'end_date': pl.String\n",
    "                  }\n",
    "calendar = pl.scan_csv(calendar_path, schema_overrides=calendar_dtype).select(list(calendar_dtype.keys()))\n",
    "calendar = (\n",
    "    calendar\n",
    "    .with_columns(pl.col('monday').cast(pl.Boolean))\n",
    "    .with_columns(pl.col('tuesday').cast(pl.Boolean))\n",
    "    .with_columns(pl.col('tuesday').cast(pl.Boolean))\n",
    "    .with_columns(pl.col('tuesday').cast(pl.Boolean))\n",
    "    .with_columns(pl.col('wednesday').cast(pl.Boolean))\n",
    "    .with_columns(pl.col('thursday').cast(pl.Boolean))\n",
    "    .with_columns(pl.col('friday').cast(pl.Boolean))\n",
    "    .with_columns(pl.col('saturday').cast(pl.Boolean))\n",
    "    .with_columns(pl.col('sunday').cast(pl.Boolean))\n",
    "    .with_columns(pl.col(\"start_date\").cast(pl.String).str.to_date(\"%Y%m%d\"))\n",
    "    .with_columns(pl.col(\"end_date\").cast(pl.String).str.to_date(\"%Y%m%d\"))\n",
    ")\n",
    "calendar.head().collect()"
   ]
  },
  {
   "cell_type": "code",
   "execution_count": 5,
   "metadata": {},
   "outputs": [
    {
     "data": {
      "text/html": [
       "<div><style>\n",
       ".dataframe > thead > tr,\n",
       ".dataframe > tbody > tr {\n",
       "  text-align: right;\n",
       "  white-space: pre-wrap;\n",
       "}\n",
       "</style>\n",
       "<small>shape: (5, 4)</small><table border=\"1\" class=\"dataframe\"><thead><tr><th>stop_id</th><th>stop_name</th><th>stop_lon</th><th>stop_lat</th></tr><tr><td>cat</td><td>str</td><td>f64</td><td>f64</td></tr></thead><tbody><tr><td>&quot;IDFM:monomodalStopPlace:46689&quot;</td><td>&quot;Viroflay Rive Droite&quot;</td><td>2.167655</td><td>48.805473</td></tr><tr><td>&quot;IDFM:monomodalStopPlace:46647&quot;</td><td>&quot;Achères Ville&quot;</td><td>2.077727</td><td>48.970644</td></tr><tr><td>&quot;IDFM:monomodalStopPlace:474069&quot;</td><td>&quot;Lozère&quot;</td><td>2.212718</td><td>48.705912</td></tr><tr><td>&quot;IDFM:monomodalStopPlace:474082&quot;</td><td>&quot;Noisy-le-Grand - Mont d&#x27;Est&quot;</td><td>2.550027</td><td>48.840885</td></tr><tr><td>&quot;IDFM:monomodalStopPlace:45102&quot;</td><td>&quot;Châtelet les Halles&quot;</td><td>2.346977</td><td>48.861745</td></tr></tbody></table></div>"
      ],
      "text/plain": [
       "shape: (5, 4)\n",
       "┌────────────────────────────────┬─────────────────────────────┬──────────┬───────────┐\n",
       "│ stop_id                        ┆ stop_name                   ┆ stop_lon ┆ stop_lat  │\n",
       "│ ---                            ┆ ---                         ┆ ---      ┆ ---       │\n",
       "│ cat                            ┆ str                         ┆ f64      ┆ f64       │\n",
       "╞════════════════════════════════╪═════════════════════════════╪══════════╪═══════════╡\n",
       "│ IDFM:monomodalStopPlace:46689  ┆ Viroflay Rive Droite        ┆ 2.167655 ┆ 48.805473 │\n",
       "│ IDFM:monomodalStopPlace:46647  ┆ Achères Ville               ┆ 2.077727 ┆ 48.970644 │\n",
       "│ IDFM:monomodalStopPlace:474069 ┆ Lozère                      ┆ 2.212718 ┆ 48.705912 │\n",
       "│ IDFM:monomodalStopPlace:474082 ┆ Noisy-le-Grand - Mont d'Est ┆ 2.550027 ┆ 48.840885 │\n",
       "│ IDFM:monomodalStopPlace:45102  ┆ Châtelet les Halles         ┆ 2.346977 ┆ 48.861745 │\n",
       "└────────────────────────────────┴─────────────────────────────┴──────────┴───────────┘"
      ]
     },
     "execution_count": 5,
     "metadata": {},
     "output_type": "execute_result"
    }
   ],
   "source": [
    "stops_path = os.path.join(STATIC_GTFS_PATH, 'stops.txt')\n",
    "stops_dtype = {'stop_id': pl.Categorical,\n",
    "               'stop_code': pl.String,\n",
    "               'stop_name': pl.String,\n",
    "               'stop_desc': pl.String,\n",
    "               'stop_lon': pl.Float64,\n",
    "               'stop_lat': pl.Float64,\n",
    "               'zone_id': pl.Categorical,\n",
    "               'stop_url': pl.String,\n",
    "               'location_type': pl.Categorical,\n",
    "               'parent_station': pl.String,\n",
    "               'stop_timezone': pl.Categorical,\n",
    "               'level_id': pl.String,\n",
    "               'wheelchair_boarding': pl.Categorical,\n",
    "               'platform_code': pl.Categorical}\n",
    "stops = pl.scan_csv(stops_path, schema_overrides=stops_dtype).select(list(stops_dtype.keys()))\n",
    "stops = stops.drop(['stop_code',\n",
    "                    'stop_desc',\n",
    "                    'stop_url',\n",
    "                    'location_type',\n",
    "                    'parent_station',\n",
    "                    'stop_timezone',\n",
    "                    'level_id',\n",
    "                    'wheelchair_boarding',\n",
    "                    'zone_id',\n",
    "                    'platform_code'])\n",
    "stops.head().collect()"
   ]
  },
  {
   "cell_type": "code",
   "execution_count": 6,
   "metadata": {},
   "outputs": [
    {
     "data": {
      "text/html": [
       "<div><style>\n",
       ".dataframe > thead > tr,\n",
       ".dataframe > tbody > tr {\n",
       "  text-align: right;\n",
       "  white-space: pre-wrap;\n",
       "}\n",
       "</style>\n",
       "<small>shape: (5, 5)</small><table border=\"1\" class=\"dataframe\"><thead><tr><th>trip_id</th><th>route_id</th><th>service_id</th><th>trip_headsign</th><th>trip_short_name</th></tr><tr><td>str</td><td>cat</td><td>cat</td><td>str</td><td>str</td></tr></thead><tbody><tr><td>&quot;IDFM:KABS:154812-C00306-5940-2…</td><td>&quot;IDFM:C00306&quot;</td><td>&quot;IDFM:1&quot;</td><td>&quot;Gare de Houilles - Carrières-s…</td><td>null</td></tr><tr><td>&quot;IDFM:TRANSDEV_MARNE_LA_VALLEE:…</td><td>&quot;IDFM:C00638&quot;</td><td>&quot;IDFM:1&quot;</td><td>&quot;Gare de Marne-la-Vallée Chessy…</td><td>null</td></tr><tr><td>&quot;IDFM:TRANSDEV_SENART:150000-C0…</td><td>&quot;IDFM:C00862&quot;</td><td>&quot;IDFM:1&quot;</td><td>&quot;Clos du Roi&quot;</td><td>null</td></tr><tr><td>&quot;IDFM:TRANSDEV_SENART:150000-C0…</td><td>&quot;IDFM:C00862&quot;</td><td>&quot;IDFM:1&quot;</td><td>&quot;Clos du Roi&quot;</td><td>null</td></tr><tr><td>&quot;IDFM:TRANSDEV_SENART:150000-C0…</td><td>&quot;IDFM:C00862&quot;</td><td>&quot;IDFM:1&quot;</td><td>&quot;Gare de Combs-la-Ville Quincy&quot;</td><td>null</td></tr></tbody></table></div>"
      ],
      "text/plain": [
       "shape: (5, 5)\n",
       "┌──────────────────────────┬─────────────┬────────────┬──────────────────────────┬─────────────────┐\n",
       "│ trip_id                  ┆ route_id    ┆ service_id ┆ trip_headsign            ┆ trip_short_name │\n",
       "│ ---                      ┆ ---         ┆ ---        ┆ ---                      ┆ ---             │\n",
       "│ str                      ┆ cat         ┆ cat        ┆ str                      ┆ str             │\n",
       "╞══════════════════════════╪═════════════╪════════════╪══════════════════════════╪═════════════════╡\n",
       "│ IDFM:KABS:154812-C00306- ┆ IDFM:C00306 ┆ IDFM:1     ┆ Gare de Houilles -       ┆ null            │\n",
       "│ 5940-2…                  ┆             ┆            ┆ Carrières-s…             ┆                 │\n",
       "│ IDFM:TRANSDEV_MARNE_LA_V ┆ IDFM:C00638 ┆ IDFM:1     ┆ Gare de Marne-la-Vallée  ┆ null            │\n",
       "│ ALLEE:…                  ┆             ┆            ┆ Chessy…                  ┆                 │\n",
       "│ IDFM:TRANSDEV_SENART:150 ┆ IDFM:C00862 ┆ IDFM:1     ┆ Clos du Roi              ┆ null            │\n",
       "│ 000-C0…                  ┆             ┆            ┆                          ┆                 │\n",
       "│ IDFM:TRANSDEV_SENART:150 ┆ IDFM:C00862 ┆ IDFM:1     ┆ Clos du Roi              ┆ null            │\n",
       "│ 000-C0…                  ┆             ┆            ┆                          ┆                 │\n",
       "│ IDFM:TRANSDEV_SENART:150 ┆ IDFM:C00862 ┆ IDFM:1     ┆ Gare de Combs-la-Ville   ┆ null            │\n",
       "│ 000-C0…                  ┆             ┆            ┆ Quincy                   ┆                 │\n",
       "└──────────────────────────┴─────────────┴────────────┴──────────────────────────┴─────────────────┘"
      ]
     },
     "execution_count": 6,
     "metadata": {},
     "output_type": "execute_result"
    }
   ],
   "source": [
    "trips_path = os.path.join(STATIC_GTFS_PATH, 'trips.txt')\n",
    "trips_dtype = {'trip_id': pl.String,\n",
    "               'route_id': pl.Categorical,\n",
    "               'service_id': pl.Categorical,\n",
    "               'trip_headsign': pl.String,\n",
    "               'trip_short_name': pl.String,\n",
    "               'direction_id': pl.String,\n",
    "               'wheelchair_accessible': pl.Categorical,\n",
    "               'bikes_allowed': pl.Categorical}\n",
    "trips = pl.scan_csv(trips_path, schema_overrides=trips_dtype).select(list(trips_dtype.keys()))\n",
    "trips = trips.drop(['direction_id', 'wheelchair_accessible', 'bikes_allowed'])\n",
    "trips.head().collect()"
   ]
  },
  {
   "cell_type": "code",
   "execution_count": 7,
   "metadata": {},
   "outputs": [
    {
     "data": {
      "text/html": [
       "<div><style>\n",
       ".dataframe > thead > tr,\n",
       ".dataframe > tbody > tr {\n",
       "  text-align: right;\n",
       "  white-space: pre-wrap;\n",
       "}\n",
       "</style>\n",
       "<small>shape: (5, 9)</small><table border=\"1\" class=\"dataframe\"><thead><tr><th>trip_id</th><th>stop_id</th><th>stop_sequence</th><th>arrival_hour</th><th>arrival_minute</th><th>arrival_second</th><th>departure_hour</th><th>departure_minute</th><th>departure_second</th></tr><tr><td>str</td><td>cat</td><td>i16</td><td>i16</td><td>i16</td><td>i16</td><td>i16</td><td>i16</td><td>i16</td></tr></thead><tbody><tr><td>&quot;IDFM:KABS:154812-C00306-5940-2…</td><td>&quot;IDFM:7511&quot;</td><td>0</td><td>14</td><td>15</td><td>0</td><td>14</td><td>15</td><td>0</td></tr><tr><td>&quot;IDFM:KABS:154812-C00306-5940-2…</td><td>&quot;IDFM:7465&quot;</td><td>1</td><td>14</td><td>15</td><td>0</td><td>14</td><td>15</td><td>0</td></tr><tr><td>&quot;IDFM:KABS:154812-C00306-5940-2…</td><td>&quot;IDFM:7520&quot;</td><td>2</td><td>14</td><td>16</td><td>0</td><td>14</td><td>16</td><td>0</td></tr><tr><td>&quot;IDFM:KABS:154812-C00306-5940-2…</td><td>&quot;IDFM:7451&quot;</td><td>3</td><td>14</td><td>18</td><td>0</td><td>14</td><td>18</td><td>0</td></tr><tr><td>&quot;IDFM:KABS:154812-C00306-5940-2…</td><td>&quot;IDFM:7455&quot;</td><td>4</td><td>14</td><td>19</td><td>0</td><td>14</td><td>19</td><td>0</td></tr></tbody></table></div>"
      ],
      "text/plain": [
       "shape: (5, 9)\n",
       "┌───────────┬───────────┬───────────┬───────────┬───┬───────────┬───────────┬───────────┬──────────┐\n",
       "│ trip_id   ┆ stop_id   ┆ stop_sequ ┆ arrival_h ┆ … ┆ arrival_s ┆ departure ┆ departure ┆ departur │\n",
       "│ ---       ┆ ---       ┆ ence      ┆ our       ┆   ┆ econd     ┆ _hour     ┆ _minute   ┆ e_second │\n",
       "│ str       ┆ cat       ┆ ---       ┆ ---       ┆   ┆ ---       ┆ ---       ┆ ---       ┆ ---      │\n",
       "│           ┆           ┆ i16       ┆ i16       ┆   ┆ i16       ┆ i16       ┆ i16       ┆ i16      │\n",
       "╞═══════════╪═══════════╪═══════════╪═══════════╪═══╪═══════════╪═══════════╪═══════════╪══════════╡\n",
       "│ IDFM:KABS ┆ IDFM:7511 ┆ 0         ┆ 14        ┆ … ┆ 0         ┆ 14        ┆ 15        ┆ 0        │\n",
       "│ :154812-C ┆           ┆           ┆           ┆   ┆           ┆           ┆           ┆          │\n",
       "│ 00306-594 ┆           ┆           ┆           ┆   ┆           ┆           ┆           ┆          │\n",
       "│ 0-2…      ┆           ┆           ┆           ┆   ┆           ┆           ┆           ┆          │\n",
       "│ IDFM:KABS ┆ IDFM:7465 ┆ 1         ┆ 14        ┆ … ┆ 0         ┆ 14        ┆ 15        ┆ 0        │\n",
       "│ :154812-C ┆           ┆           ┆           ┆   ┆           ┆           ┆           ┆          │\n",
       "│ 00306-594 ┆           ┆           ┆           ┆   ┆           ┆           ┆           ┆          │\n",
       "│ 0-2…      ┆           ┆           ┆           ┆   ┆           ┆           ┆           ┆          │\n",
       "│ IDFM:KABS ┆ IDFM:7520 ┆ 2         ┆ 14        ┆ … ┆ 0         ┆ 14        ┆ 16        ┆ 0        │\n",
       "│ :154812-C ┆           ┆           ┆           ┆   ┆           ┆           ┆           ┆          │\n",
       "│ 00306-594 ┆           ┆           ┆           ┆   ┆           ┆           ┆           ┆          │\n",
       "│ 0-2…      ┆           ┆           ┆           ┆   ┆           ┆           ┆           ┆          │\n",
       "│ IDFM:KABS ┆ IDFM:7451 ┆ 3         ┆ 14        ┆ … ┆ 0         ┆ 14        ┆ 18        ┆ 0        │\n",
       "│ :154812-C ┆           ┆           ┆           ┆   ┆           ┆           ┆           ┆          │\n",
       "│ 00306-594 ┆           ┆           ┆           ┆   ┆           ┆           ┆           ┆          │\n",
       "│ 0-2…      ┆           ┆           ┆           ┆   ┆           ┆           ┆           ┆          │\n",
       "│ IDFM:KABS ┆ IDFM:7455 ┆ 4         ┆ 14        ┆ … ┆ 0         ┆ 14        ┆ 19        ┆ 0        │\n",
       "│ :154812-C ┆           ┆           ┆           ┆   ┆           ┆           ┆           ┆          │\n",
       "│ 00306-594 ┆           ┆           ┆           ┆   ┆           ┆           ┆           ┆          │\n",
       "│ 0-2…      ┆           ┆           ┆           ┆   ┆           ┆           ┆           ┆          │\n",
       "└───────────┴───────────┴───────────┴───────────┴───┴───────────┴───────────┴───────────┴──────────┘"
      ]
     },
     "execution_count": 7,
     "metadata": {},
     "output_type": "execute_result"
    }
   ],
   "source": [
    "stop_times_path = os.path.join(STATIC_GTFS_PATH, 'stop_times.txt')\n",
    "stop_times_dtype = {'trip_id': pl.String,\n",
    "                    'arrival_time': pl.String,\n",
    "                    'departure_time': pl.String,\n",
    "                    'stop_id': pl.Categorical,\n",
    "                    'stop_sequence': pl.Int16\n",
    "                    }\n",
    "stop_times = pl.scan_csv(stop_times_path, schema_overrides=stop_times_dtype).select(list(stop_times_dtype.keys()))\n",
    "\n",
    "# Parse departure and arrival times\n",
    "stop_times = (\n",
    "    stop_times.with_columns(\n",
    "        pl.col('arrival_time')\n",
    "        .str.splitn(\":\", 3)\n",
    "        .struct.rename_fields([\"arrival_hour\", \"arrival_minute\", \"arrival_second\"])\n",
    "        .alias(\"arrival_time_fields\")\n",
    "    )\n",
    "    .unnest(\"arrival_time_fields\")\n",
    "    .with_columns(pl.col('arrival_hour').cast(pl.Int16))\n",
    "    .with_columns(pl.col('arrival_minute').cast(pl.Int16))\n",
    "    .with_columns(pl.col('arrival_second').cast(pl.Int16))\n",
    ")\n",
    "stop_times = (\n",
    "    stop_times.with_columns(\n",
    "        pl.col('departure_time')\n",
    "        .str.splitn(\":\", 3)\n",
    "        .struct.rename_fields([\"departure_hour\", \"departure_minute\", \"departure_second\"])\n",
    "        .alias(\"departure_time_fields\")\n",
    "    )\n",
    "    .unnest(\"departure_time_fields\")\n",
    "    .with_columns(pl.col('departure_hour').cast(pl.Int16))\n",
    "    .with_columns(pl.col('departure_minute').cast(pl.Int16))\n",
    "    .with_columns(pl.col('departure_second').cast(pl.Int16))\n",
    ")\n",
    "\n",
    "stop_times = stop_times.drop(['arrival_time', 'departure_time'])\n",
    "\n",
    "stop_times.head().collect()"
   ]
  },
  {
   "cell_type": "code",
   "execution_count": 8,
   "metadata": {},
   "outputs": [
    {
     "data": {
      "text/html": [
       "<div><style>\n",
       ".dataframe > thead > tr,\n",
       ".dataframe > tbody > tr {\n",
       "  text-align: right;\n",
       "  white-space: pre-wrap;\n",
       "}\n",
       "</style>\n",
       "<small>shape: (5, 5)</small><table border=\"1\" class=\"dataframe\"><thead><tr><th>route_id</th><th>agency_id</th><th>route_short_name</th><th>route_long_name</th><th>route_type</th></tr><tr><td>cat</td><td>cat</td><td>cat</td><td>cat</td><td>cat</td></tr></thead><tbody><tr><td>&quot;IDFM:C01624&quot;</td><td>&quot;IDFM:1080&quot;</td><td>&quot;409&quot;</td><td>&quot;409&quot;</td><td>&quot;BUS&quot;</td></tr><tr><td>&quot;IDFM:C02313&quot;</td><td>&quot;IDFM:1081&quot;</td><td>&quot;01&quot;</td><td>&quot;01&quot;</td><td>&quot;BUS&quot;</td></tr><tr><td>&quot;IDFM:C00029&quot;</td><td>&quot;IDFM:81&quot;</td><td>&quot;502&quot;</td><td>&quot;502&quot;</td><td>&quot;BUS&quot;</td></tr><tr><td>&quot;IDFM:C00632&quot;</td><td>&quot;IDFM:64&quot;</td><td>&quot;2234&quot;</td><td>&quot;2234&quot;</td><td>&quot;BUS&quot;</td></tr><tr><td>&quot;IDFM:C00164&quot;</td><td>&quot;IDFM:1081&quot;</td><td>&quot;3&quot;</td><td>&quot;3&quot;</td><td>&quot;BUS&quot;</td></tr></tbody></table></div>"
      ],
      "text/plain": [
       "shape: (5, 5)\n",
       "┌─────────────┬───────────┬──────────────────┬─────────────────┬────────────┐\n",
       "│ route_id    ┆ agency_id ┆ route_short_name ┆ route_long_name ┆ route_type │\n",
       "│ ---         ┆ ---       ┆ ---              ┆ ---             ┆ ---        │\n",
       "│ cat         ┆ cat       ┆ cat              ┆ cat             ┆ cat        │\n",
       "╞═════════════╪═══════════╪══════════════════╪═════════════════╪════════════╡\n",
       "│ IDFM:C01624 ┆ IDFM:1080 ┆ 409              ┆ 409             ┆ BUS        │\n",
       "│ IDFM:C02313 ┆ IDFM:1081 ┆ 01               ┆ 01              ┆ BUS        │\n",
       "│ IDFM:C00029 ┆ IDFM:81   ┆ 502              ┆ 502             ┆ BUS        │\n",
       "│ IDFM:C00632 ┆ IDFM:64   ┆ 2234             ┆ 2234            ┆ BUS        │\n",
       "│ IDFM:C00164 ┆ IDFM:1081 ┆ 3                ┆ 3               ┆ BUS        │\n",
       "└─────────────┴───────────┴──────────────────┴─────────────────┴────────────┘"
      ]
     },
     "execution_count": 8,
     "metadata": {},
     "output_type": "execute_result"
    }
   ],
   "source": [
    "routes_path = os.path.join(STATIC_GTFS_PATH, 'routes.txt')\n",
    "routes_dtype = {'route_id': pl.Categorical,\n",
    "                'agency_id': pl.Categorical,\n",
    "                'route_short_name': pl.Categorical,\n",
    "                'route_long_name': pl.Categorical,\n",
    "                'route_type': pl.Categorical}\n",
    "routes = pl.scan_csv(routes_path, schema_overrides=routes_dtype).select(list(routes_dtype.keys()))\n",
    "\n",
    "routes = routes.with_columns(\n",
    "    pl\n",
    "    .when(pl.col('route_type') == '0').then(pl.lit('TRAM'))\n",
    "    .when(pl.col('route_type') == '1').then(pl.lit('METRO'))\n",
    "    .when(pl.col('route_type') == '2').then(pl.lit('TRAIN'))\n",
    "    .when(pl.col('route_type') == '3').then(pl.lit('BUS'))\n",
    "\n",
    "    .alias('route_type')\n",
    "    .cast(pl.Categorical)\n",
    ")\n",
    "\n",
    "routes.head().collect()"
   ]
  },
  {
   "cell_type": "markdown",
   "metadata": {},
   "source": [
    "# Join all data"
   ]
  },
  {
   "cell_type": "code",
   "execution_count": 9,
   "metadata": {},
   "outputs": [],
   "source": [
    "timetable = (\n",
    "    stop_times\n",
    "    .join(trips, on='trip_id', how='left')\n",
    "    .join(calendar, on='service_id', how='left')\n",
    "    .join(stops, on='stop_id', how='left')\n",
    "    .join(routes, on='route_id', how='left')\n",
    ")"
   ]
  },
  {
   "cell_type": "code",
   "execution_count": 10,
   "metadata": {},
   "outputs": [],
   "source": [
    "# Parse times\n",
    "# For trips ending after midnight, the start_date/end_date of the stop times dataframe is set the day before.\n",
    "\n",
    "timetable = (\n",
    "    timetable\n",
    "\n",
    "    # Change start/end date to set it one day in the future\n",
    "    .with_columns(\n",
    "        pl\n",
    "        .when(pl.col('arrival_hour') >= 24)\n",
    "        .then(pl.col('start_date') + datetime.timedelta(days=1))\n",
    "        .otherwise(pl.col('start_date'))\n",
    "        .alias('start_date')\n",
    "    )\n",
    "    .with_columns(\n",
    "        pl\n",
    "        .when(pl.col('arrival_hour') >= 24)\n",
    "        .then(pl.col('end_date') + datetime.timedelta(days=1))\n",
    "        .otherwise(pl.col('end_date'))\n",
    "        .alias('end_date')\n",
    "    )\n",
    "\n",
    "    # Change the day booleans to set it to the value of the day before\n",
    "    .with_columns(\n",
    "        pl\n",
    "        .when(pl.col('arrival_hour') >= 24)\n",
    "        .then(pl.col('saturday'))\n",
    "        .otherwise(pl.col('sunday'))\n",
    "        .alias('sunday')\n",
    "    )\n",
    "    .with_columns(\n",
    "        pl\n",
    "        .when(pl.col('arrival_hour') >= 24)\n",
    "        .then(pl.col('friday'))\n",
    "        .otherwise(pl.col('saturday'))\n",
    "        .alias('saturday')\n",
    "    )\n",
    "    .with_columns(\n",
    "        pl\n",
    "        .when(pl.col('arrival_hour') >= 24)\n",
    "        .then(pl.col('thursday'))\n",
    "        .otherwise(pl.col('friday'))\n",
    "        .alias('friday')\n",
    "    )\n",
    "    .with_columns(\n",
    "        pl\n",
    "        .when(pl.col('arrival_hour') >= 24)\n",
    "        .then(pl.col('wednesday'))\n",
    "        .otherwise(pl.col('thursday'))\n",
    "        .alias('thursday')\n",
    "    )\n",
    "    .with_columns(\n",
    "        pl\n",
    "        .when(pl.col('arrival_hour') >= 24)\n",
    "        .then(pl.col('tuesday'))\n",
    "        .otherwise(pl.col('wednesday'))\n",
    "        .alias('wednesday')\n",
    "    )\n",
    "    .with_columns(\n",
    "        pl\n",
    "        .when(pl.col('arrival_hour') >= 24)\n",
    "        .then(pl.col('monday'))\n",
    "        .otherwise(pl.col('tuesday'))\n",
    "        .alias('tuesday')\n",
    "    )\n",
    "    .with_columns(\n",
    "        pl\n",
    "        .when(pl.col('arrival_hour') >= 24)\n",
    "        .then(pl.col('sunday'))\n",
    "        .otherwise(pl.col('monday'))\n",
    "        .alias('monday')\n",
    "    )\n",
    "\n",
    "    # Finally, convert hours after midnight to real hours\n",
    "    .with_columns(\n",
    "        pl\n",
    "        .when(pl.col('arrival_hour') >= 24)\n",
    "        .then(pl.col('arrival_hour') - 24)\n",
    "        .otherwise(pl.col('arrival_hour'))\n",
    "        .alias('arrival_hour')\n",
    "    )\n",
    "    .with_columns(\n",
    "        pl\n",
    "        .when(pl.col('departure_hour') >= 24)\n",
    "        .then(pl.col('departure_hour') - 24)\n",
    "        .otherwise(pl.col('departure_hour'))\n",
    "        .alias('departure_hour')\n",
    "    )\n",
    "\n",
    "    # Parse time component into time dtype\n",
    "    .with_columns(\n",
    "        pl.time(\n",
    "            pl.col('arrival_hour'),\n",
    "            pl.col('arrival_minute'),\n",
    "            pl.col('arrival_second'),\n",
    "            0)\n",
    "        .alias('arrival_time')\n",
    "    )\n",
    "    .with_columns(\n",
    "        pl.time(\n",
    "            pl.col('departure_hour'),\n",
    "            pl.col('departure_minute'),\n",
    "            pl.col('departure_second'),\n",
    "            0)\n",
    "        .alias('departure_time')\n",
    "    )\n",
    "\n",
    "    .drop([\n",
    "        'departure_hour',\n",
    "        'departure_minute',\n",
    "        'departure_second',\n",
    "        'arrival_hour',\n",
    "        'arrival_minute',\n",
    "        'arrival_second'])\n",
    ")"
   ]
  },
  {
   "cell_type": "markdown",
   "metadata": {},
   "source": [
    "# Export timetable"
   ]
  },
  {
   "cell_type": "code",
   "execution_count": 11,
   "metadata": {},
   "outputs": [
    {
     "name": "stdout",
     "output_type": "stream",
     "text": [
      "STREAMING:\n",
      "  simple π 25/31 [\"trip_id\", \"stop_id\", ... 23 other columns]\n",
      "     WITH_COLUMNS:\n",
      "     [dyn int: 1970.dt.datetime([dyn int: 1, dyn int: 1, col(\"departure_hour\"), col(\"departure_minute\"), col(\"departure_second\"), dyn int: 0, String(raise)]).strict_cast(Time).alias(\"departure_time\")] \n",
      "       WITH_COLUMNS:\n",
      "       [dyn int: 1970.dt.datetime([dyn int: 1, dyn int: 1, col(\"arrival_hour\"), col(\"arrival_minute\"), col(\"arrival_second\"), dyn int: 0, String(raise)]).strict_cast(Time).alias(\"arrival_time\")] \n",
      "        simple π 29/30 [\"trip_id\", \"stop_id\", ... 27 other columns]\n",
      "           WITH_COLUMNS:\n",
      "           [when(col(\"__POLARS_CSER_0xe4d4b30150208385\")).then(col(\"sunday\")).otherwise(col(\"monday\")).alias(\"monday\"), when(col(\"__POLARS_CSER_0xe4d4b30150208385\")).then([(col(\"arrival_hour\")) - (24)]).otherwise(col(\"arrival_hour\")).alias(\"arrival_hour\")] \n",
      "             WITH_COLUMNS:\n",
      "             [[(col(\"arrival_hour\")) >= (24)].alias(\"__POLARS_CSER_0xe4d4b30150208385\")] \n",
      "              simple π 29/30 [\"trip_id\", \"stop_id\", ... 27 other columns]\n",
      "                 WITH_COLUMNS:\n",
      "                 [when(col(\"__POLARS_CSER_0xe4d4b30150208385\")).then([(col(\"start_date\")) + (1d)]).otherwise(col(\"start_date\")).alias(\"start_date\"), when(col(\"__POLARS_CSER_0xe4d4b30150208385\")).then([(col(\"end_date\")) + (1d)]).otherwise(col(\"end_date\")).alias(\"end_date\"), when(col(\"__POLARS_CSER_0xe4d4b30150208385\")).then(col(\"saturday\")).otherwise(col(\"sunday\")).alias(\"sunday\"), when(col(\"__POLARS_CSER_0xe4d4b30150208385\")).then(col(\"friday\")).otherwise(col(\"saturday\")).alias(\"saturday\"), when(col(\"__POLARS_CSER_0xe4d4b30150208385\")).then(col(\"thursday\")).otherwise(col(\"friday\")).alias(\"friday\"), when(col(\"__POLARS_CSER_0xe4d4b30150208385\")).then(col(\"wednesday\")).otherwise(col(\"thursday\")).alias(\"thursday\"), when(col(\"__POLARS_CSER_0xe4d4b30150208385\")).then(col(\"tuesday\")).otherwise(col(\"wednesday\")).alias(\"wednesday\"), when(col(\"__POLARS_CSER_0xe4d4b30150208385\")).then(col(\"monday\")).otherwise(col(\"tuesday\")).alias(\"tuesday\"), when([(col(\"departure_hour\")) >= (24)]).then([(col(\"departure_hour\")) - (24)]).otherwise(col(\"departure_hour\")).alias(\"departure_hour\")] \n",
      "                   WITH_COLUMNS:\n",
      "                   [[(col(\"arrival_hour\")) >= (24)].alias(\"__POLARS_CSER_0xe4d4b30150208385\")] \n",
      "                    LEFT JOIN:\n",
      "                    LEFT PLAN ON: [col(\"route_id\")]\n",
      "                      LEFT JOIN:\n",
      "                      LEFT PLAN ON: [col(\"stop_id\")]\n",
      "                        LEFT JOIN:\n",
      "                        LEFT PLAN ON: [col(\"service_id\")]\n",
      "                          LEFT JOIN:\n",
      "                          LEFT PLAN ON: [col(\"trip_id\")]\n",
      "                            simple π 9/11 [\"trip_id\", \"stop_id\", ... 7 other columns]\n",
      "                               WITH_COLUMNS:\n",
      "                               [col(\"departure_hour\").strict_cast(Int16), col(\"departure_minute\").strict_cast(Int16), col(\"departure_second\").strict_cast(Int16)] \n",
      "                                 WITH_COLUMNS:\n",
      "                                 [col(\"departure_hour\"), col(\"departure_minute\"), col(\"departure_second\")] \n",
      "                                  UNNEST by:[departure_time_fields]\n",
      "                                     WITH_COLUMNS:\n",
      "                                     [col(\"arrival_hour\").strict_cast(Int16), col(\"arrival_minute\").strict_cast(Int16), col(\"arrival_second\").strict_cast(Int16), col(\"departure_time\").str.splitn([String(:)]).struct.rename_fields([\"departure_hour\", \"departure_minute\", \"departure_second\"])().alias(\"departure_time_fields\")] \n",
      "                                      UNNEST by:[arrival_time_fields]\n",
      "                                         WITH_COLUMNS:\n",
      "                                         [col(\"arrival_time\").str.splitn([String(:)]).struct.rename_fields([\"arrival_hour\", \"arrival_minute\", \"arrival_second\"])().alias(\"arrival_time_fields\")] \n",
      "                                          Csv SCAN [raw_data/gtfs/stop_times.txt]\n",
      "                                          PROJECT 5/10 COLUMNS\n",
      "                          RIGHT PLAN ON: [col(\"trip_id\")]\n",
      "                             SELECT [col(\"trip_id\"), col(\"route_id\"), col(\"service_id\"), col(\"trip_headsign\"), col(\"trip_short_name\")] FROM\n",
      "                              Csv SCAN [raw_data/gtfs/trips.txt]\n",
      "                              PROJECT 5/10 COLUMNS\n",
      "                          END LEFT JOIN\n",
      "                        RIGHT PLAN ON: [col(\"service_id\")]\n",
      "                           WITH_COLUMNS:\n",
      "                           [col(\"tuesday\").strict_cast(Boolean)] \n",
      "                             WITH_COLUMNS:\n",
      "                             [col(\"tuesday\").strict_cast(Boolean)] \n",
      "                               WITH_COLUMNS:\n",
      "                               [col(\"monday\").strict_cast(Boolean), col(\"tuesday\").strict_cast(Boolean), col(\"wednesday\").strict_cast(Boolean), col(\"thursday\").strict_cast(Boolean), col(\"friday\").strict_cast(Boolean), col(\"saturday\").strict_cast(Boolean), col(\"sunday\").strict_cast(Boolean), col(\"start_date\").strict_cast(String).str.strptime([String(raise)]), col(\"end_date\").strict_cast(String).str.strptime([String(raise)])] \n",
      "                                Csv SCAN [raw_data/gtfs/calendar.txt]\n",
      "                                PROJECT 10/10 COLUMNS\n",
      "                        END LEFT JOIN\n",
      "                      RIGHT PLAN ON: [col(\"stop_id\")]\n",
      "                         SELECT [col(\"stop_id\"), col(\"stop_name\"), col(\"stop_lon\"), col(\"stop_lat\")] FROM\n",
      "                          Csv SCAN [raw_data/gtfs/stops.txt]\n",
      "                          PROJECT 4/14 COLUMNS\n",
      "                      END LEFT JOIN\n",
      "                    RIGHT PLAN ON: [col(\"route_id\")]\n",
      "                       WITH_COLUMNS:\n",
      "                       [when([(col(\"route_type\")) == (String(0))]).then(String(TRAM)).otherwise(when([(col(\"route_type\")) == (String(1))]).then(String(METRO)).otherwise(when([(col(\"route_type\")) == (String(2))]).then(String(TRAIN)).otherwise(when([(col(\"route_type\")) == (String(3))]).then(String(BUS)).otherwise(null.strict_cast(String))))).strict_cast(Categorical(None, Physical)).alias(\"route_type\")] \n",
      "                        Csv SCAN [raw_data/gtfs/routes.txt]\n",
      "                        PROJECT 5/10 COLUMNS\n",
      "                    END LEFT JOIN\n"
     ]
    }
   ],
   "source": [
    "print(timetable.explain(streaming=True))"
   ]
  },
  {
   "cell_type": "code",
   "execution_count": 12,
   "metadata": {},
   "outputs": [],
   "source": [
    "timetable.sink_parquet('data/timetable.parquet', compression='lz4')"
   ]
  },
  {
   "cell_type": "code",
   "execution_count": 14,
   "metadata": {},
   "outputs": [
    {
     "data": {
      "text/html": [
       "<div><style>\n",
       ".dataframe > thead > tr,\n",
       ".dataframe > tbody > tr {\n",
       "  text-align: right;\n",
       "  white-space: pre-wrap;\n",
       "}\n",
       "</style>\n",
       "<small>shape: (5, 25)</small><table border=\"1\" class=\"dataframe\"><thead><tr><th>trip_id</th><th>stop_id</th><th>stop_sequence</th><th>route_id</th><th>service_id</th><th>trip_headsign</th><th>trip_short_name</th><th>monday</th><th>tuesday</th><th>wednesday</th><th>thursday</th><th>friday</th><th>saturday</th><th>sunday</th><th>start_date</th><th>end_date</th><th>stop_name</th><th>stop_lon</th><th>stop_lat</th><th>agency_id</th><th>route_short_name</th><th>route_long_name</th><th>route_type</th><th>arrival_time</th><th>departure_time</th></tr><tr><td>str</td><td>cat</td><td>i16</td><td>cat</td><td>cat</td><td>str</td><td>str</td><td>bool</td><td>bool</td><td>bool</td><td>bool</td><td>bool</td><td>bool</td><td>bool</td><td>date</td><td>date</td><td>str</td><td>f64</td><td>f64</td><td>cat</td><td>cat</td><td>cat</td><td>cat</td><td>time</td><td>time</td></tr></thead><tbody><tr><td>&quot;IDFM:KABS:154812-C00306-5940-2…</td><td>&quot;IDFM:7511&quot;</td><td>0</td><td>&quot;IDFM:C00306&quot;</td><td>&quot;IDFM:1&quot;</td><td>&quot;Gare de Houilles - Carrières-s…</td><td>null</td><td>true</td><td>true</td><td>true</td><td>true</td><td>false</td><td>false</td><td>false</td><td>2024-09-02</td><td>2024-09-05</td><td>&quot;Marché des Côteaux&quot;</td><td>2.233614</td><td>48.961037</td><td>&quot;IDFM:1054&quot;</td><td>&quot;34&quot;</td><td>&quot;34&quot;</td><td>&quot;BUS&quot;</td><td>14:15:00</td><td>14:15:00</td></tr><tr><td>&quot;IDFM:KABS:154812-C00306-5940-2…</td><td>&quot;IDFM:7465&quot;</td><td>1</td><td>&quot;IDFM:C00306&quot;</td><td>&quot;IDFM:1&quot;</td><td>&quot;Gare de Houilles - Carrières-s…</td><td>null</td><td>true</td><td>true</td><td>true</td><td>true</td><td>false</td><td>false</td><td>false</td><td>2024-09-02</td><td>2024-09-05</td><td>&quot;Craonne&quot;</td><td>2.231505</td><td>48.960501</td><td>&quot;IDFM:1054&quot;</td><td>&quot;34&quot;</td><td>&quot;34&quot;</td><td>&quot;BUS&quot;</td><td>14:15:00</td><td>14:15:00</td></tr><tr><td>&quot;IDFM:KABS:154812-C00306-5940-2…</td><td>&quot;IDFM:7520&quot;</td><td>2</td><td>&quot;IDFM:C00306&quot;</td><td>&quot;IDFM:1&quot;</td><td>&quot;Gare de Houilles - Carrières-s…</td><td>null</td><td>true</td><td>true</td><td>true</td><td>true</td><td>false</td><td>false</td><td>false</td><td>2024-09-02</td><td>2024-09-05</td><td>&quot;Passemay&quot;</td><td>2.225993</td><td>48.960187</td><td>&quot;IDFM:1054&quot;</td><td>&quot;34&quot;</td><td>&quot;34&quot;</td><td>&quot;BUS&quot;</td><td>14:16:00</td><td>14:16:00</td></tr><tr><td>&quot;IDFM:KABS:154812-C00306-5940-2…</td><td>&quot;IDFM:7451&quot;</td><td>3</td><td>&quot;IDFM:C00306&quot;</td><td>&quot;IDFM:1&quot;</td><td>&quot;Gare de Houilles - Carrières-s…</td><td>null</td><td>true</td><td>true</td><td>true</td><td>true</td><td>false</td><td>false</td><td>false</td><td>2024-09-02</td><td>2024-09-05</td><td>&quot;Route de Cormeilles&quot;</td><td>2.231836</td><td>48.955647</td><td>&quot;IDFM:1054&quot;</td><td>&quot;34&quot;</td><td>&quot;34&quot;</td><td>&quot;BUS&quot;</td><td>14:18:00</td><td>14:18:00</td></tr><tr><td>&quot;IDFM:KABS:154812-C00306-5940-2…</td><td>&quot;IDFM:7455&quot;</td><td>4</td><td>&quot;IDFM:C00306&quot;</td><td>&quot;IDFM:1&quot;</td><td>&quot;Gare de Houilles - Carrières-s…</td><td>null</td><td>true</td><td>true</td><td>true</td><td>true</td><td>false</td><td>false</td><td>false</td><td>2024-09-02</td><td>2024-09-05</td><td>&quot;Rue de Coudray&quot;</td><td>2.230188</td><td>48.954495</td><td>&quot;IDFM:1054&quot;</td><td>&quot;34&quot;</td><td>&quot;34&quot;</td><td>&quot;BUS&quot;</td><td>14:19:00</td><td>14:19:00</td></tr></tbody></table></div>"
      ],
      "text/plain": [
       "shape: (5, 25)\n",
       "┌───────────┬───────────┬───────────┬───────────┬───┬───────────┬───────────┬───────────┬──────────┐\n",
       "│ trip_id   ┆ stop_id   ┆ stop_sequ ┆ route_id  ┆ … ┆ route_lon ┆ route_typ ┆ arrival_t ┆ departur │\n",
       "│ ---       ┆ ---       ┆ ence      ┆ ---       ┆   ┆ g_name    ┆ e         ┆ ime       ┆ e_time   │\n",
       "│ str       ┆ cat       ┆ ---       ┆ cat       ┆   ┆ ---       ┆ ---       ┆ ---       ┆ ---      │\n",
       "│           ┆           ┆ i16       ┆           ┆   ┆ cat       ┆ cat       ┆ time      ┆ time     │\n",
       "╞═══════════╪═══════════╪═══════════╪═══════════╪═══╪═══════════╪═══════════╪═══════════╪══════════╡\n",
       "│ IDFM:KABS ┆ IDFM:7511 ┆ 0         ┆ IDFM:C003 ┆ … ┆ 34        ┆ BUS       ┆ 14:15:00  ┆ 14:15:00 │\n",
       "│ :154812-C ┆           ┆           ┆ 06        ┆   ┆           ┆           ┆           ┆          │\n",
       "│ 00306-594 ┆           ┆           ┆           ┆   ┆           ┆           ┆           ┆          │\n",
       "│ 0-2…      ┆           ┆           ┆           ┆   ┆           ┆           ┆           ┆          │\n",
       "│ IDFM:KABS ┆ IDFM:7465 ┆ 1         ┆ IDFM:C003 ┆ … ┆ 34        ┆ BUS       ┆ 14:15:00  ┆ 14:15:00 │\n",
       "│ :154812-C ┆           ┆           ┆ 06        ┆   ┆           ┆           ┆           ┆          │\n",
       "│ 00306-594 ┆           ┆           ┆           ┆   ┆           ┆           ┆           ┆          │\n",
       "│ 0-2…      ┆           ┆           ┆           ┆   ┆           ┆           ┆           ┆          │\n",
       "│ IDFM:KABS ┆ IDFM:7520 ┆ 2         ┆ IDFM:C003 ┆ … ┆ 34        ┆ BUS       ┆ 14:16:00  ┆ 14:16:00 │\n",
       "│ :154812-C ┆           ┆           ┆ 06        ┆   ┆           ┆           ┆           ┆          │\n",
       "│ 00306-594 ┆           ┆           ┆           ┆   ┆           ┆           ┆           ┆          │\n",
       "│ 0-2…      ┆           ┆           ┆           ┆   ┆           ┆           ┆           ┆          │\n",
       "│ IDFM:KABS ┆ IDFM:7451 ┆ 3         ┆ IDFM:C003 ┆ … ┆ 34        ┆ BUS       ┆ 14:18:00  ┆ 14:18:00 │\n",
       "│ :154812-C ┆           ┆           ┆ 06        ┆   ┆           ┆           ┆           ┆          │\n",
       "│ 00306-594 ┆           ┆           ┆           ┆   ┆           ┆           ┆           ┆          │\n",
       "│ 0-2…      ┆           ┆           ┆           ┆   ┆           ┆           ┆           ┆          │\n",
       "│ IDFM:KABS ┆ IDFM:7455 ┆ 4         ┆ IDFM:C003 ┆ … ┆ 34        ┆ BUS       ┆ 14:19:00  ┆ 14:19:00 │\n",
       "│ :154812-C ┆           ┆           ┆ 06        ┆   ┆           ┆           ┆           ┆          │\n",
       "│ 00306-594 ┆           ┆           ┆           ┆   ┆           ┆           ┆           ┆          │\n",
       "│ 0-2…      ┆           ┆           ┆           ┆   ┆           ┆           ┆           ┆          │\n",
       "└───────────┴───────────┴───────────┴───────────┴───┴───────────┴───────────┴───────────┴──────────┘"
      ]
     },
     "execution_count": 14,
     "metadata": {},
     "output_type": "execute_result"
    }
   ],
   "source": [
    "timetable.head().collect(streaming=True)"
   ]
  }
 ],
 "metadata": {
  "kernelspec": {
   "display_name": "Python 3",
   "language": "python",
   "name": "python3"
  },
  "language_info": {
   "codemirror_mode": {
    "name": "ipython",
    "version": 3
   },
   "file_extension": ".py",
   "mimetype": "text/x-python",
   "name": "python",
   "nbconvert_exporter": "python",
   "pygments_lexer": "ipython3",
   "version": "3.12.4"
  }
 },
 "nbformat": 4,
 "nbformat_minor": 2
}
